{
 "cells": [
  {
   "cell_type": "code",
   "execution_count": 1,
   "metadata": {},
   "outputs": [],
   "source": [
    "datafolder = \"24-04-24\""
   ]
  },
  {
   "cell_type": "code",
   "execution_count": 2,
   "metadata": {},
   "outputs": [],
   "source": [
    "# This Python 3 environment comes with many helpful analytics libraries installed\n",
    "# It is defined by the kaggle/python Docker image: https://github.com/kaggle/docker-python\n",
    "# For example, here's several helpful packages to load\n",
    "\n",
    "import os\n",
    "import numpy as np # linear algebra\n",
    "import pandas as pd # data processing, CSV file I/O (e.g. pd.read_csv)\n",
    "import matplotlib.pyplot as plt\n"
   ]
  },
  {
   "cell_type": "code",
   "execution_count": null,
   "metadata": {},
   "outputs": [],
   "source": []
  },
  {
   "cell_type": "code",
   "execution_count": 3,
   "metadata": {},
   "outputs": [
    {
     "name": "stdout",
     "output_type": "stream",
     "text": [
      "data/24-04-24/Zeitposten.csv\n",
      "data/24-04-24/Ressource.csv\n",
      "data/24-04-24/Einsatzstelle.csv\n",
      "data/24-04-24/Reklamationen.csv\n",
      "data/24-04-24/Tour.csv\n",
      "data/24-04-24/Auftr„ge.csv\n"
     ]
    }
   ],
   "source": [
    "for dirname, _, filenames in os.walk('data/24-04-24'):\n",
    "    for filename in filenames:\n",
    "        print(os.path.join(dirname, filename))\n"
   ]
  },
  {
   "cell_type": "code",
   "execution_count": 4,
   "metadata": {},
   "outputs": [],
   "source": [
    "def load_and_preview_dataset(name, data_folder, filename, sep=','): \n",
    "    df = pd.read_csv(f'data/{data_folder}/{filename}', sep=sep)\n",
    "    print(f'Columns and data types of \"{name}\" dataset')\n",
    "    display(df.dtypes)\n",
    "    print(f'Number of rows of \"{name}\" dataset', len(df))\n",
    "    print(f'Head of {name} dataset')\n",
    "    display(df.head())\n",
    "    print(\"\\nMissing values in orders:\\n\", df.isnull().sum())\n",
    "    return df"
   ]
  },
  {
   "cell_type": "markdown",
   "metadata": {},
   "source": [
    "### tours"
   ]
  },
  {
   "cell_type": "code",
   "execution_count": 5,
   "metadata": {},
   "outputs": [
    {
     "name": "stdout",
     "output_type": "stream",
     "text": [
      "Columns and data types of \"tours\" dataset\n"
     ]
    },
    {
     "data": {
      "text/plain": [
       "%TOURNR            int64\n",
       "Einsatzdatum      object\n",
       "Betriebsstätte    object\n",
       "%Rahmentour        int64\n",
       "Rahmentourcode    object\n",
       "dtype: object"
      ]
     },
     "metadata": {},
     "output_type": "display_data"
    },
    {
     "name": "stdout",
     "output_type": "stream",
     "text": [
      "Number of rows of \"tours\" dataset 138953\n",
      "Head of tours dataset\n"
     ]
    },
    {
     "data": {
      "text/html": [
       "<div>\n",
       "<style scoped>\n",
       "    .dataframe tbody tr th:only-of-type {\n",
       "        vertical-align: middle;\n",
       "    }\n",
       "\n",
       "    .dataframe tbody tr th {\n",
       "        vertical-align: top;\n",
       "    }\n",
       "\n",
       "    .dataframe thead th {\n",
       "        text-align: right;\n",
       "    }\n",
       "</style>\n",
       "<table border=\"1\" class=\"dataframe\">\n",
       "  <thead>\n",
       "    <tr style=\"text-align: right;\">\n",
       "      <th></th>\n",
       "      <th>%TOURNR</th>\n",
       "      <th>Einsatzdatum</th>\n",
       "      <th>Betriebsstätte</th>\n",
       "      <th>%Rahmentour</th>\n",
       "      <th>Rahmentourcode</th>\n",
       "    </tr>\n",
       "  </thead>\n",
       "  <tbody>\n",
       "    <tr>\n",
       "      <th>0</th>\n",
       "      <td>12964</td>\n",
       "      <td>10.11.2023</td>\n",
       "      <td>MONU</td>\n",
       "      <td>1</td>\n",
       "      <td>TP00335</td>\n",
       "    </tr>\n",
       "    <tr>\n",
       "      <th>1</th>\n",
       "      <td>38897</td>\n",
       "      <td>07.02.2022</td>\n",
       "      <td>MONU</td>\n",
       "      <td>1</td>\n",
       "      <td>TP00335</td>\n",
       "    </tr>\n",
       "    <tr>\n",
       "      <th>2</th>\n",
       "      <td>73190</td>\n",
       "      <td>21.10.2022</td>\n",
       "      <td>MONU</td>\n",
       "      <td>1</td>\n",
       "      <td>TP00335</td>\n",
       "    </tr>\n",
       "    <tr>\n",
       "      <th>3</th>\n",
       "      <td>54020</td>\n",
       "      <td>06.08.2021</td>\n",
       "      <td>MONU</td>\n",
       "      <td>1</td>\n",
       "      <td>TP00335</td>\n",
       "    </tr>\n",
       "    <tr>\n",
       "      <th>4</th>\n",
       "      <td>78256</td>\n",
       "      <td>27.01.2023</td>\n",
       "      <td>MONU</td>\n",
       "      <td>1</td>\n",
       "      <td>TP00335</td>\n",
       "    </tr>\n",
       "  </tbody>\n",
       "</table>\n",
       "</div>"
      ],
      "text/plain": [
       "   %TOURNR Einsatzdatum Betriebsstätte  %Rahmentour Rahmentourcode\n",
       "0    12964   10.11.2023           MONU            1        TP00335\n",
       "1    38897   07.02.2022           MONU            1        TP00335\n",
       "2    73190   21.10.2022           MONU            1        TP00335\n",
       "3    54020   06.08.2021           MONU            1        TP00335\n",
       "4    78256   27.01.2023           MONU            1        TP00335"
      ]
     },
     "metadata": {},
     "output_type": "display_data"
    },
    {
     "name": "stdout",
     "output_type": "stream",
     "text": [
      "\n",
      "Missing values in orders:\n",
      " %TOURNR           0\n",
      "Einsatzdatum      0\n",
      "Betriebsstätte    1\n",
      "%Rahmentour       0\n",
      "Rahmentourcode    0\n",
      "dtype: int64\n"
     ]
    }
   ],
   "source": [
    "tours = load_and_preview_dataset('tours', datafolder, 'Tour.csv')"
   ]
  },
  {
   "cell_type": "code",
   "execution_count": 6,
   "metadata": {},
   "outputs": [
    {
     "data": {
      "text/html": [
       "<div>\n",
       "<style scoped>\n",
       "    .dataframe tbody tr th:only-of-type {\n",
       "        vertical-align: middle;\n",
       "    }\n",
       "\n",
       "    .dataframe tbody tr th {\n",
       "        vertical-align: top;\n",
       "    }\n",
       "\n",
       "    .dataframe thead th {\n",
       "        text-align: right;\n",
       "    }\n",
       "</style>\n",
       "<table border=\"1\" class=\"dataframe\">\n",
       "  <thead>\n",
       "    <tr style=\"text-align: right;\">\n",
       "      <th></th>\n",
       "      <th>tour_number</th>\n",
       "      <th>service_date</th>\n",
       "      <th>operational_site</th>\n",
       "      <th>reference_tour_number</th>\n",
       "      <th>reference_tour_code</th>\n",
       "    </tr>\n",
       "  </thead>\n",
       "  <tbody>\n",
       "    <tr>\n",
       "      <th>0</th>\n",
       "      <td>12964</td>\n",
       "      <td>10.11.2023</td>\n",
       "      <td>MONU</td>\n",
       "      <td>1</td>\n",
       "      <td>TP00335</td>\n",
       "    </tr>\n",
       "    <tr>\n",
       "      <th>1</th>\n",
       "      <td>38897</td>\n",
       "      <td>07.02.2022</td>\n",
       "      <td>MONU</td>\n",
       "      <td>1</td>\n",
       "      <td>TP00335</td>\n",
       "    </tr>\n",
       "    <tr>\n",
       "      <th>2</th>\n",
       "      <td>73190</td>\n",
       "      <td>21.10.2022</td>\n",
       "      <td>MONU</td>\n",
       "      <td>1</td>\n",
       "      <td>TP00335</td>\n",
       "    </tr>\n",
       "    <tr>\n",
       "      <th>3</th>\n",
       "      <td>54020</td>\n",
       "      <td>06.08.2021</td>\n",
       "      <td>MONU</td>\n",
       "      <td>1</td>\n",
       "      <td>TP00335</td>\n",
       "    </tr>\n",
       "    <tr>\n",
       "      <th>4</th>\n",
       "      <td>78256</td>\n",
       "      <td>27.01.2023</td>\n",
       "      <td>MONU</td>\n",
       "      <td>1</td>\n",
       "      <td>TP00335</td>\n",
       "    </tr>\n",
       "  </tbody>\n",
       "</table>\n",
       "</div>"
      ],
      "text/plain": [
       "   tour_number service_date operational_site  reference_tour_number  \\\n",
       "0        12964   10.11.2023             MONU                      1   \n",
       "1        38897   07.02.2022             MONU                      1   \n",
       "2        73190   21.10.2022             MONU                      1   \n",
       "3        54020   06.08.2021             MONU                      1   \n",
       "4        78256   27.01.2023             MONU                      1   \n",
       "\n",
       "  reference_tour_code  \n",
       "0             TP00335  \n",
       "1             TP00335  \n",
       "2             TP00335  \n",
       "3             TP00335  \n",
       "4             TP00335  "
      ]
     },
     "metadata": {},
     "output_type": "display_data"
    }
   ],
   "source": [
    "tours = tours.rename(columns={\n",
    "    '%TOURNR': 'tour_number',\n",
    "    'Einsatzdatum': 'service_date',\n",
    "    'Betriebsstätte': 'operational_site',\n",
    "    '%Rahmentour': 'reference_tour_number',\n",
    "    'Rahmentourcode': 'reference_tour_code'\n",
    "})\n",
    "display(tours.head())"
   ]
  },
  {
   "cell_type": "code",
   "execution_count": 7,
   "metadata": {},
   "outputs": [],
   "source": [
    "tours.service_date = pd.to_datetime(tours.service_date, format='%d.%m.%Y')"
   ]
  },
  {
   "cell_type": "markdown",
   "metadata": {},
   "source": [
    "### how many actual 'routes' do we have"
   ]
  },
  {
   "cell_type": "code",
   "execution_count": 8,
   "metadata": {},
   "outputs": [
    {
     "name": "stdout",
     "output_type": "stream",
     "text": [
      "the number of distinct tours is: 199\n"
     ]
    }
   ],
   "source": [
    "print(f'the number of distinct tours is: {len(tours.reference_tour_code.unique())}')"
   ]
  },
  {
   "cell_type": "markdown",
   "metadata": {},
   "source": [
    "### lets have a look at the operational sites\n",
    "does an operational site always have the same reference_tour_numb er and reference_tour_code"
   ]
  },
  {
   "cell_type": "code",
   "execution_count": 9,
   "metadata": {},
   "outputs": [
    {
     "name": "stdout",
     "output_type": "stream",
     "text": [
      "<class 'pandas.core.frame.DataFrame'>\n",
      "RangeIndex: 138953 entries, 0 to 138952\n",
      "Data columns (total 5 columns):\n",
      " #   Column                 Non-Null Count   Dtype         \n",
      "---  ------                 --------------   -----         \n",
      " 0   tour_number            138953 non-null  int64         \n",
      " 1   service_date           138953 non-null  datetime64[ns]\n",
      " 2   operational_site       138952 non-null  object        \n",
      " 3   reference_tour_number  138953 non-null  int64         \n",
      " 4   reference_tour_code    138953 non-null  object        \n",
      "dtypes: datetime64[ns](1), int64(2), object(2)\n",
      "memory usage: 5.3+ MB\n"
     ]
    }
   ],
   "source": [
    "tours.info()"
   ]
  },
  {
   "cell_type": "code",
   "execution_count": 10,
   "metadata": {},
   "outputs": [
    {
     "data": {
      "text/plain": [
       "operational_site\n",
       "MONU    138952\n",
       "Name: count, dtype: int64"
      ]
     },
     "execution_count": 10,
     "metadata": {},
     "output_type": "execute_result"
    }
   ],
   "source": [
    "tours.operational_site.value_counts()"
   ]
  },
  {
   "cell_type": "code",
   "execution_count": 11,
   "metadata": {},
   "outputs": [
    {
     "data": {
      "text/plain": [
       "reference_tour_number\n",
       "136    3390\n",
       "126    2893\n",
       "51     2722\n",
       "27     2708\n",
       "124    2665\n",
       "       ... \n",
       "191       1\n",
       "193       1\n",
       "192       1\n",
       "190       1\n",
       "199       1\n",
       "Name: count, Length: 199, dtype: int64"
      ]
     },
     "execution_count": 11,
     "metadata": {},
     "output_type": "execute_result"
    }
   ],
   "source": [
    "tours.reference_tour_number.value_counts()"
   ]
  },
  {
   "cell_type": "code",
   "execution_count": 12,
   "metadata": {},
   "outputs": [
    {
     "data": {
      "image/png": "[encoded data removed]",
      "text/plain": [
       "<Figure size 1000x600 with 1 Axes>"
      ]
     },
     "metadata": {},
     "output_type": "display_data"
    }
   ],
   "source": [
    "fig = plt.figure(figsize=(10, 6))\n",
    "fig.suptitle('reference_tour_number breakdown', fontsize=16)\n",
    "tours.reference_tour_number.value_counts().plot(kind='bar', rot=90)\n",
    "plt.tight_layout()\n",
    "\n",
    "plt.show()"
   ]
  },
  {
   "cell_type": "markdown",
   "metadata": {},
   "source": [
    "Reference Tour numbers have a real spread.  \n",
    "Ranging from 3500 occurrences to 1\n",
    "lets do the same for the reference tour code to see how that looks"
   ]
  },
  {
   "cell_type": "code",
   "execution_count": 13,
   "metadata": {},
   "outputs": [
    {
     "data": {
      "text/plain": [
       "reference_tour_code\n",
       "TCT0011       3390\n",
       "TCT0008       2893\n",
       "TGIGLU0712    2722\n",
       "TCT0014       2708\n",
       "TCT0005       2665\n",
       "              ... \n",
       "TP00105          1\n",
       "TP00106          1\n",
       "TP00103          1\n",
       "TP00104          1\n",
       "TM00669          1\n",
       "Name: count, Length: 199, dtype: int64"
      ]
     },
     "execution_count": 13,
     "metadata": {},
     "output_type": "execute_result"
    }
   ],
   "source": [
    "tours.reference_tour_code.value_counts()"
   ]
  },
  {
   "cell_type": "code",
   "execution_count": 14,
   "metadata": {},
   "outputs": [
    {
     "data": {
      "image/png": "[encoded data removed]",
      "text/plain": [
       "<Figure size 1000x600 with 1 Axes>"
      ]
     },
     "metadata": {},
     "output_type": "display_data"
    }
   ],
   "source": [
    "fig = plt.figure(figsize=(10, 6))\n",
    "fig.suptitle('reference_tour_code breakdown', fontsize=16)\n",
    "tours.reference_tour_code.value_counts().plot(kind='bar', rot=90)\n",
    "plt.tight_layout()\n",
    "\n",
    "plt.show()"
   ]
  },
  {
   "cell_type": "code",
   "execution_count": 15,
   "metadata": {},
   "outputs": [
    {
     "name": "stdout",
     "output_type": "stream",
     "text": [
      "True\n"
     ]
    }
   ],
   "source": [
    "is_same = np.array_equal(tours.reference_tour_number.value_counts().values, tours.reference_tour_code.value_counts().values)\n",
    "\n",
    "print(is_same)"
   ]
  },
  {
   "cell_type": "markdown",
   "metadata": {},
   "source": [
    "tours.reference_tour_number and reference_tour_code are essentially the same data. just encoded differently"
   ]
  },
  {
   "cell_type": "markdown",
   "metadata": {},
   "source": [
    "I want to join the reklamtion table to the Tour table\n",
    "Reklmation foreign key is % TOURNR"
   ]
  },
  {
   "cell_type": "code",
   "execution_count": 16,
   "metadata": {},
   "outputs": [
    {
     "name": "stdout",
     "output_type": "stream",
     "text": [
      "Columns and data types of \"reklmationen\" dataset\n"
     ]
    },
    {
     "name": "stderr",
     "output_type": "stream",
     "text": [
      "/var/folders/ch/cdbcz7115ms5zvq6n9ds4wn00000gn/T/ipykernel_21143/1101745544.py:2: DtypeWarning: Columns (4) have mixed types. Specify dtype option on import or set low_memory=False.\n",
      "  df = pd.read_csv(f'data/{data_folder}/{filename}', sep=sep)\n"
     ]
    },
    {
     "data": {
      "text/plain": [
       "%TOURNR                                 int64\n",
       "Belegnr.                               object\n",
       "Reklamationsgrund                       int64\n",
       "Grund                                  object\n",
       "Reklamationsuntergrund Beschreibung    object\n",
       "dtype: object"
      ]
     },
     "metadata": {},
     "output_type": "display_data"
    },
    {
     "name": "stdout",
     "output_type": "stream",
     "text": [
      "Number of rows of \"reklmationen\" dataset 790425\n",
      "Head of reklmationen dataset\n"
     ]
    },
    {
     "data": {
      "text/html": [
       "<div>\n",
       "<style scoped>\n",
       "    .dataframe tbody tr th:only-of-type {\n",
       "        vertical-align: middle;\n",
       "    }\n",
       "\n",
       "    .dataframe tbody tr th {\n",
       "        vertical-align: top;\n",
       "    }\n",
       "\n",
       "    .dataframe thead th {\n",
       "        text-align: right;\n",
       "    }\n",
       "</style>\n",
       "<table border=\"1\" class=\"dataframe\">\n",
       "  <thead>\n",
       "    <tr style=\"text-align: right;\">\n",
       "      <th></th>\n",
       "      <th>%TOURNR</th>\n",
       "      <th>Belegnr.</th>\n",
       "      <th>Reklamationsgrund</th>\n",
       "      <th>Grund</th>\n",
       "      <th>Reklamationsuntergrund Beschreibung</th>\n",
       "    </tr>\n",
       "  </thead>\n",
       "  <tbody>\n",
       "    <tr>\n",
       "      <th>0</th>\n",
       "      <td>160016</td>\n",
       "      <td>A241067066</td>\n",
       "      <td>402</td>\n",
       "      <td>BB Deckel beschädigt</td>\n",
       "      <td>großer Deckel - Hauptdeckel</td>\n",
       "    </tr>\n",
       "    <tr>\n",
       "      <th>1</th>\n",
       "      <td>122761</td>\n",
       "      <td>A240871203</td>\n",
       "      <td>501</td>\n",
       "      <td>Ü Ladestelle beräumt</td>\n",
       "      <td>Mehrmengen mitgenommen (MMM)</td>\n",
       "    </tr>\n",
       "    <tr>\n",
       "      <th>2</th>\n",
       "      <td>97644</td>\n",
       "      <td>A240929593</td>\n",
       "      <td>501</td>\n",
       "      <td>Ü Ladestelle beräumt</td>\n",
       "      <td>Mehrmengen mitgenommen (MMM)</td>\n",
       "    </tr>\n",
       "    <tr>\n",
       "      <th>3</th>\n",
       "      <td>121874</td>\n",
       "      <td>A240803399</td>\n",
       "      <td>501</td>\n",
       "      <td>Ü Ladestelle beräumt</td>\n",
       "      <td>Mehrmengen mitgenommen (MMM)</td>\n",
       "    </tr>\n",
       "    <tr>\n",
       "      <th>4</th>\n",
       "      <td>122263</td>\n",
       "      <td>A240977660</td>\n",
       "      <td>501</td>\n",
       "      <td>Ü Ladestelle beräumt</td>\n",
       "      <td>Mehrmengen mitgenommen (MMM)</td>\n",
       "    </tr>\n",
       "  </tbody>\n",
       "</table>\n",
       "</div>"
      ],
      "text/plain": [
       "   %TOURNR    Belegnr.  Reklamationsgrund                 Grund  \\\n",
       "0   160016  A241067066                402  BB Deckel beschädigt   \n",
       "1   122761  A240871203                501  Ü Ladestelle beräumt   \n",
       "2    97644  A240929593                501  Ü Ladestelle beräumt   \n",
       "3   121874  A240803399                501  Ü Ladestelle beräumt   \n",
       "4   122263  A240977660                501  Ü Ladestelle beräumt   \n",
       "\n",
       "  Reklamationsuntergrund Beschreibung  \n",
       "0         großer Deckel - Hauptdeckel  \n",
       "1        Mehrmengen mitgenommen (MMM)  \n",
       "2        Mehrmengen mitgenommen (MMM)  \n",
       "3        Mehrmengen mitgenommen (MMM)  \n",
       "4        Mehrmengen mitgenommen (MMM)  "
      ]
     },
     "metadata": {},
     "output_type": "display_data"
    },
    {
     "name": "stdout",
     "output_type": "stream",
     "text": [
      "\n",
      "Missing values in orders:\n",
      " %TOURNR                                     0\n",
      "Belegnr.                                    0\n",
      "Reklamationsgrund                           0\n",
      "Grund                                      24\n",
      "Reklamationsuntergrund Beschreibung    557898\n",
      "dtype: int64\n"
     ]
    }
   ],
   "source": [
    "reklmationen = load_and_preview_dataset('reklmationen', datafolder, 'Reklamationen.csv')"
   ]
  },
  {
   "cell_type": "code",
   "execution_count": 43,
   "metadata": {},
   "outputs": [
    {
     "name": "stderr",
     "output_type": "stream",
     "text": [
      "/var/folders/ch/cdbcz7115ms5zvq6n9ds4wn00000gn/T/ipykernel_21143/1101745544.py:2: DtypeWarning: Columns (4) have mixed types. Specify dtype option on import or set low_memory=False.\n",
      "  df = pd.read_csv(f'data/{data_folder}/{filename}', sep=sep)\n"
     ]
    },
    {
     "name": "stdout",
     "output_type": "stream",
     "text": [
      "Columns and data types of \"auftrag\" dataset\n"
     ]
    },
    {
     "data": {
      "text/plain": [
       "%TOURNR                      int64\n",
       "%DEBITOR%EINSATZSTELLE       int64\n",
       "Auftr.Auftragsnr.           object\n",
       "Auftr.Einsatzdatum          object\n",
       "Auftr.Menge                 object\n",
       "Auftr.Einheit               object\n",
       "Auftr.Betriebsmittelnr.    float64\n",
       "Auftr.Int. Stoffkatalog     object\n",
       "Artikel                     object\n",
       "Betriebsmittel              object\n",
       "dtype: object"
      ]
     },
     "metadata": {},
     "output_type": "display_data"
    },
    {
     "name": "stdout",
     "output_type": "stream",
     "text": [
      "Number of rows of \"auftrag\" dataset 13242295\n",
      "Head of auftrag dataset\n"
     ]
    },
    {
     "data": {
      "text/html": [
       "<div>\n",
       "<style scoped>\n",
       "    .dataframe tbody tr th:only-of-type {\n",
       "        vertical-align: middle;\n",
       "    }\n",
       "\n",
       "    .dataframe tbody tr th {\n",
       "        vertical-align: top;\n",
       "    }\n",
       "\n",
       "    .dataframe thead th {\n",
       "        text-align: right;\n",
       "    }\n",
       "</style>\n",
       "<table border=\"1\" class=\"dataframe\">\n",
       "  <thead>\n",
       "    <tr style=\"text-align: right;\">\n",
       "      <th></th>\n",
       "      <th>%TOURNR</th>\n",
       "      <th>%DEBITOR%EINSATZSTELLE</th>\n",
       "      <th>Auftr.Auftragsnr.</th>\n",
       "      <th>Auftr.Einsatzdatum</th>\n",
       "      <th>Auftr.Menge</th>\n",
       "      <th>Auftr.Einheit</th>\n",
       "      <th>Auftr.Betriebsmittelnr.</th>\n",
       "      <th>Auftr.Int. Stoffkatalog</th>\n",
       "      <th>Artikel</th>\n",
       "      <th>Betriebsmittel</th>\n",
       "    </tr>\n",
       "  </thead>\n",
       "  <tbody>\n",
       "    <tr>\n",
       "      <th>0</th>\n",
       "      <td>32437</td>\n",
       "      <td>56418</td>\n",
       "      <td>A221790082</td>\n",
       "      <td>19.05.2022</td>\n",
       "      <td>1</td>\n",
       "      <td>Stück</td>\n",
       "      <td>20440.0</td>\n",
       "      <td>M760300</td>\n",
       "      <td>Kunststoffe</td>\n",
       "      <td>30m³ CT offen</td>\n",
       "    </tr>\n",
       "    <tr>\n",
       "      <th>1</th>\n",
       "      <td>32437</td>\n",
       "      <td>56418</td>\n",
       "      <td>A221790083</td>\n",
       "      <td>19.05.2022</td>\n",
       "      <td>1</td>\n",
       "      <td>Stück</td>\n",
       "      <td>20440.0</td>\n",
       "      <td>M760300</td>\n",
       "      <td>Kunststoffe</td>\n",
       "      <td>30m³ CT offen</td>\n",
       "    </tr>\n",
       "    <tr>\n",
       "      <th>2</th>\n",
       "      <td>82408</td>\n",
       "      <td>56418</td>\n",
       "      <td>A231849217</td>\n",
       "      <td>23.05.2023</td>\n",
       "      <td>1</td>\n",
       "      <td>Stück</td>\n",
       "      <td>20440.0</td>\n",
       "      <td>M760300</td>\n",
       "      <td>Kunststoffe</td>\n",
       "      <td>30m³ CT offen</td>\n",
       "    </tr>\n",
       "    <tr>\n",
       "      <th>3</th>\n",
       "      <td>46532</td>\n",
       "      <td>56418</td>\n",
       "      <td>A213241021</td>\n",
       "      <td>21.09.2021</td>\n",
       "      <td>1</td>\n",
       "      <td>Stück</td>\n",
       "      <td>20440.0</td>\n",
       "      <td>M760300</td>\n",
       "      <td>Kunststoffe</td>\n",
       "      <td>30m³ CT offen</td>\n",
       "    </tr>\n",
       "    <tr>\n",
       "      <th>4</th>\n",
       "      <td>25173</td>\n",
       "      <td>56418</td>\n",
       "      <td>A220934859</td>\n",
       "      <td>15.03.2022</td>\n",
       "      <td>1</td>\n",
       "      <td>Stück</td>\n",
       "      <td>20440.0</td>\n",
       "      <td>M760300</td>\n",
       "      <td>Kunststoffe</td>\n",
       "      <td>30m³ CT offen</td>\n",
       "    </tr>\n",
       "  </tbody>\n",
       "</table>\n",
       "</div>"
      ],
      "text/plain": [
       "   %TOURNR  %DEBITOR%EINSATZSTELLE Auftr.Auftragsnr. Auftr.Einsatzdatum  \\\n",
       "0    32437                   56418        A221790082         19.05.2022   \n",
       "1    32437                   56418        A221790083         19.05.2022   \n",
       "2    82408                   56418        A231849217         23.05.2023   \n",
       "3    46532                   56418        A213241021         21.09.2021   \n",
       "4    25173                   56418        A220934859         15.03.2022   \n",
       "\n",
       "  Auftr.Menge Auftr.Einheit  Auftr.Betriebsmittelnr. Auftr.Int. Stoffkatalog  \\\n",
       "0           1         Stück                  20440.0                 M760300   \n",
       "1           1         Stück                  20440.0                 M760300   \n",
       "2           1         Stück                  20440.0                 M760300   \n",
       "3           1         Stück                  20440.0                 M760300   \n",
       "4           1         Stück                  20440.0                 M760300   \n",
       "\n",
       "       Artikel Betriebsmittel  \n",
       "0  Kunststoffe  30m³ CT offen  \n",
       "1  Kunststoffe  30m³ CT offen  \n",
       "2  Kunststoffe  30m³ CT offen  \n",
       "3  Kunststoffe  30m³ CT offen  \n",
       "4  Kunststoffe  30m³ CT offen  "
      ]
     },
     "metadata": {},
     "output_type": "display_data"
    },
    {
     "name": "stdout",
     "output_type": "stream",
     "text": [
      "\n",
      "Missing values in orders:\n",
      " %TOURNR                       0\n",
      "%DEBITOR%EINSATZSTELLE        0\n",
      "Auftr.Auftragsnr.             0\n",
      "Auftr.Einsatzdatum            0\n",
      "Auftr.Menge                   0\n",
      "Auftr.Einheit                41\n",
      "Auftr.Betriebsmittelnr.    5647\n",
      "Auftr.Int. Stoffkatalog    5059\n",
      "Artikel                    5059\n",
      "Betriebsmittel             5647\n",
      "dtype: int64\n"
     ]
    }
   ],
   "source": [
    "auftrag = load_and_preview_dataset('auftrag', datafolder, 'Auftr„ge.csv')"
   ]
  },
  {
   "cell_type": "code",
   "execution_count": 17,
   "metadata": {},
   "outputs": [],
   "source": [
    "tours_reklmation = tours.merge(reklmationen, left_on='tour_number', right_on='%TOURNR', how='left')"
   ]
  },
  {
   "cell_type": "code",
   "execution_count": 18,
   "metadata": {},
   "outputs": [
    {
     "name": "stdout",
     "output_type": "stream",
     "text": [
      "how many actual complaint reasons do we have: 70\n"
     ]
    }
   ],
   "source": [
    "print(f'how many actual complaint reasons do we have: {len(tours_reklmation.Grund.unique())}')"
   ]
  },
  {
   "cell_type": "markdown",
   "metadata": {},
   "source": [
    "Thats a lot fewer reasons that I expected"
   ]
  },
  {
   "cell_type": "code",
   "execution_count": 19,
   "metadata": {},
   "outputs": [
    {
     "data": {
      "text/html": [
       "<div>\n",
       "<style scoped>\n",
       "    .dataframe tbody tr th:only-of-type {\n",
       "        vertical-align: middle;\n",
       "    }\n",
       "\n",
       "    .dataframe tbody tr th {\n",
       "        vertical-align: top;\n",
       "    }\n",
       "\n",
       "    .dataframe thead th {\n",
       "        text-align: right;\n",
       "    }\n",
       "</style>\n",
       "<table border=\"1\" class=\"dataframe\">\n",
       "  <thead>\n",
       "    <tr style=\"text-align: right;\">\n",
       "      <th></th>\n",
       "      <th>0</th>\n",
       "    </tr>\n",
       "  </thead>\n",
       "  <tbody>\n",
       "    <tr>\n",
       "      <th>0</th>\n",
       "      <td>BB Rad beschädigt</td>\n",
       "    </tr>\n",
       "    <tr>\n",
       "      <th>1</th>\n",
       "      <td>VSS Schlüssel/Code erforderlich</td>\n",
       "    </tr>\n",
       "    <tr>\n",
       "      <th>2</th>\n",
       "      <td>VST Tresorproblem</td>\n",
       "    </tr>\n",
       "    <tr>\n",
       "      <th>3</th>\n",
       "      <td>TV Transportweg versperrt</td>\n",
       "    </tr>\n",
       "    <tr>\n",
       "      <th>4</th>\n",
       "      <td>Behälter in Schüttung gefallen</td>\n",
       "    </tr>\n",
       "    <tr>\n",
       "      <th>...</th>\n",
       "      <td>...</td>\n",
       "    </tr>\n",
       "    <tr>\n",
       "      <th>65</th>\n",
       "      <td>Fehlverhalten allgemein</td>\n",
       "    </tr>\n",
       "    <tr>\n",
       "      <th>66</th>\n",
       "      <td>AFM - Meldung E-Schrott</td>\n",
       "    </tr>\n",
       "    <tr>\n",
       "      <th>67</th>\n",
       "      <td>Behälter nicht wieder verschlossen</td>\n",
       "    </tr>\n",
       "    <tr>\n",
       "      <th>68</th>\n",
       "      <td>Fehlende RE/GS, Rechnungskopie</td>\n",
       "    </tr>\n",
       "    <tr>\n",
       "      <th>69</th>\n",
       "      <td>RE falsch: Leistung, Menge, Preis</td>\n",
       "    </tr>\n",
       "  </tbody>\n",
       "</table>\n",
       "<p>70 rows × 1 columns</p>\n",
       "</div>"
      ],
      "text/plain": [
       "                                     0\n",
       "0                    BB Rad beschädigt\n",
       "1      VSS Schlüssel/Code erforderlich\n",
       "2                    VST Tresorproblem\n",
       "3            TV Transportweg versperrt\n",
       "4       Behälter in Schüttung gefallen\n",
       "..                                 ...\n",
       "65             Fehlverhalten allgemein\n",
       "66             AFM - Meldung E-Schrott\n",
       "67  Behälter nicht wieder verschlossen\n",
       "68      Fehlende RE/GS, Rechnungskopie\n",
       "69   RE falsch: Leistung, Menge, Preis\n",
       "\n",
       "[70 rows x 1 columns]"
      ]
     },
     "metadata": {},
     "output_type": "display_data"
    }
   ],
   "source": [
    "display(pd.DataFrame(tours_reklmation.Grund.unique()))"
   ]
  },
  {
   "cell_type": "markdown",
   "metadata": {},
   "source": [
    "23\tFahrzeugausfall/Fahrzeugwechsel\n",
    "24\tTour nicht geschafft\n",
    "\n",
    "seem the most likely. lets see how many we have"
   ]
  },
  {
   "cell_type": "code",
   "execution_count": 20,
   "metadata": {},
   "outputs": [],
   "source": [
    "tour_nicht_geschafft = tours_reklmation[tours_reklmation.Grund == 'Tour nicht geschafft']"
   ]
  },
  {
   "cell_type": "code",
   "execution_count": 21,
   "metadata": {},
   "outputs": [
    {
     "data": {
      "text/html": [
       "<div>\n",
       "<style scoped>\n",
       "    .dataframe tbody tr th:only-of-type {\n",
       "        vertical-align: middle;\n",
       "    }\n",
       "\n",
       "    .dataframe tbody tr th {\n",
       "        vertical-align: top;\n",
       "    }\n",
       "\n",
       "    .dataframe thead th {\n",
       "        text-align: right;\n",
       "    }\n",
       "</style>\n",
       "<table border=\"1\" class=\"dataframe\">\n",
       "  <thead>\n",
       "    <tr style=\"text-align: right;\">\n",
       "      <th></th>\n",
       "      <th>tour_number</th>\n",
       "      <th>service_date</th>\n",
       "      <th>operational_site</th>\n",
       "      <th>reference_tour_number</th>\n",
       "      <th>reference_tour_code</th>\n",
       "      <th>%TOURNR</th>\n",
       "      <th>Belegnr.</th>\n",
       "      <th>Reklamationsgrund</th>\n",
       "      <th>Grund</th>\n",
       "      <th>Reklamationsuntergrund Beschreibung</th>\n",
       "    </tr>\n",
       "  </thead>\n",
       "  <tbody>\n",
       "    <tr>\n",
       "      <th>506</th>\n",
       "      <td>47060</td>\n",
       "      <td>2021-09-29</td>\n",
       "      <td>MONU</td>\n",
       "      <td>1</td>\n",
       "      <td>TP00335</td>\n",
       "      <td>47060.0</td>\n",
       "      <td>A213386316</td>\n",
       "      <td>901.0</td>\n",
       "      <td>Tour nicht geschafft</td>\n",
       "      <td>NaN</td>\n",
       "    </tr>\n",
       "    <tr>\n",
       "      <th>507</th>\n",
       "      <td>47060</td>\n",
       "      <td>2021-09-29</td>\n",
       "      <td>MONU</td>\n",
       "      <td>1</td>\n",
       "      <td>TP00335</td>\n",
       "      <td>47060.0</td>\n",
       "      <td>A213401251</td>\n",
       "      <td>901.0</td>\n",
       "      <td>Tour nicht geschafft</td>\n",
       "      <td>NaN</td>\n",
       "    </tr>\n",
       "    <tr>\n",
       "      <th>509</th>\n",
       "      <td>47060</td>\n",
       "      <td>2021-09-29</td>\n",
       "      <td>MONU</td>\n",
       "      <td>1</td>\n",
       "      <td>TP00335</td>\n",
       "      <td>47060.0</td>\n",
       "      <td>A213364845</td>\n",
       "      <td>901.0</td>\n",
       "      <td>Tour nicht geschafft</td>\n",
       "      <td>NaN</td>\n",
       "    </tr>\n",
       "    <tr>\n",
       "      <th>510</th>\n",
       "      <td>47060</td>\n",
       "      <td>2021-09-29</td>\n",
       "      <td>MONU</td>\n",
       "      <td>1</td>\n",
       "      <td>TP00335</td>\n",
       "      <td>47060.0</td>\n",
       "      <td>A213375624</td>\n",
       "      <td>901.0</td>\n",
       "      <td>Tour nicht geschafft</td>\n",
       "      <td>NaN</td>\n",
       "    </tr>\n",
       "    <tr>\n",
       "      <th>511</th>\n",
       "      <td>47060</td>\n",
       "      <td>2021-09-29</td>\n",
       "      <td>MONU</td>\n",
       "      <td>1</td>\n",
       "      <td>TP00335</td>\n",
       "      <td>47060.0</td>\n",
       "      <td>A213387375</td>\n",
       "      <td>901.0</td>\n",
       "      <td>Tour nicht geschafft</td>\n",
       "      <td>NaN</td>\n",
       "    </tr>\n",
       "  </tbody>\n",
       "</table>\n",
       "</div>"
      ],
      "text/plain": [
       "     tour_number service_date operational_site  reference_tour_number  \\\n",
       "506        47060   2021-09-29             MONU                      1   \n",
       "507        47060   2021-09-29             MONU                      1   \n",
       "509        47060   2021-09-29             MONU                      1   \n",
       "510        47060   2021-09-29             MONU                      1   \n",
       "511        47060   2021-09-29             MONU                      1   \n",
       "\n",
       "    reference_tour_code  %TOURNR    Belegnr.  Reklamationsgrund  \\\n",
       "506             TP00335  47060.0  A213386316              901.0   \n",
       "507             TP00335  47060.0  A213401251              901.0   \n",
       "509             TP00335  47060.0  A213364845              901.0   \n",
       "510             TP00335  47060.0  A213375624              901.0   \n",
       "511             TP00335  47060.0  A213387375              901.0   \n",
       "\n",
       "                    Grund Reklamationsuntergrund Beschreibung  \n",
       "506  Tour nicht geschafft                                 NaN  \n",
       "507  Tour nicht geschafft                                 NaN  \n",
       "509  Tour nicht geschafft                                 NaN  \n",
       "510  Tour nicht geschafft                                 NaN  \n",
       "511  Tour nicht geschafft                                 NaN  "
      ]
     },
     "metadata": {},
     "output_type": "display_data"
    }
   ],
   "source": [
    "display(tour_nicht_geschafft.head())"
   ]
  },
  {
   "cell_type": "code",
   "execution_count": 22,
   "metadata": {},
   "outputs": [
    {
     "data": {
      "text/plain": [
       "153260"
      ]
     },
     "execution_count": 22,
     "metadata": {},
     "output_type": "execute_result"
    }
   ],
   "source": [
    "len(tour_nicht_geschafft)"
   ]
  },
  {
   "cell_type": "markdown",
   "metadata": {},
   "source": [
    "I can see that tour_nicht_geschafft has multiple entries for each indiviual tour of that day. It duplicating. lets see how many actually failed."
   ]
  },
  {
   "cell_type": "code",
   "execution_count": 23,
   "metadata": {},
   "outputs": [
    {
     "data": {
      "text/plain": [
       "tour_number\n",
       "85366    1914\n",
       "7238     1662\n",
       "85093    1296\n",
       "85171    1278\n",
       "88910    1140\n",
       "         ... \n",
       "32540       1\n",
       "48539       1\n",
       "31833       1\n",
       "41302       1\n",
       "25484       1\n",
       "Length: 2451, dtype: int64"
      ]
     },
     "execution_count": 23,
     "metadata": {},
     "output_type": "execute_result"
    }
   ],
   "source": [
    "#this is telling us how many entries each one has. I guess tour_number 85366 is especially long. \n",
    "#but this is interesting in terms of prioritising which tours to focus on. If its a binary choice between doing this or that - say due to not enough staff - they should do the one that\n",
    "#has the most entries.\n",
    "tour_nicht_geschafft.groupby('tour_number').size().sort_values(ascending=False)"
   ]
  },
  {
   "cell_type": "markdown",
   "metadata": {},
   "source": [
    "#are there particular routes that are especially represented?"
   ]
  },
  {
   "cell_type": "code",
   "execution_count": 24,
   "metadata": {},
   "outputs": [
    {
     "data": {
      "text/html": [
       "<div>\n",
       "<style scoped>\n",
       "    .dataframe tbody tr th:only-of-type {\n",
       "        vertical-align: middle;\n",
       "    }\n",
       "\n",
       "    .dataframe tbody tr th {\n",
       "        vertical-align: top;\n",
       "    }\n",
       "\n",
       "    .dataframe thead th {\n",
       "        text-align: right;\n",
       "    }\n",
       "</style>\n",
       "<table border=\"1\" class=\"dataframe\">\n",
       "  <thead>\n",
       "    <tr style=\"text-align: right;\">\n",
       "      <th></th>\n",
       "      <th>reference_tour_code</th>\n",
       "      <th>tour_number</th>\n",
       "      <th>Reklamationsgrund</th>\n",
       "      <th>complaint_count</th>\n",
       "    </tr>\n",
       "  </thead>\n",
       "  <tbody>\n",
       "    <tr>\n",
       "      <th>0</th>\n",
       "      <td>TG00012</td>\n",
       "      <td>85366</td>\n",
       "      <td>901.0</td>\n",
       "      <td>1914</td>\n",
       "    </tr>\n",
       "    <tr>\n",
       "      <th>1</th>\n",
       "      <td>TG00033</td>\n",
       "      <td>7238</td>\n",
       "      <td>901.0</td>\n",
       "      <td>1662</td>\n",
       "    </tr>\n",
       "    <tr>\n",
       "      <th>2</th>\n",
       "      <td>TG00012</td>\n",
       "      <td>85093</td>\n",
       "      <td>901.0</td>\n",
       "      <td>1296</td>\n",
       "    </tr>\n",
       "    <tr>\n",
       "      <th>3</th>\n",
       "      <td>TG00012</td>\n",
       "      <td>85171</td>\n",
       "      <td>901.0</td>\n",
       "      <td>1278</td>\n",
       "    </tr>\n",
       "    <tr>\n",
       "      <th>4</th>\n",
       "      <td>TG00033</td>\n",
       "      <td>88910</td>\n",
       "      <td>901.0</td>\n",
       "      <td>1140</td>\n",
       "    </tr>\n",
       "    <tr>\n",
       "      <th>...</th>\n",
       "      <td>...</td>\n",
       "      <td>...</td>\n",
       "      <td>...</td>\n",
       "      <td>...</td>\n",
       "    </tr>\n",
       "    <tr>\n",
       "      <th>2446</th>\n",
       "      <td>TP00332</td>\n",
       "      <td>7453</td>\n",
       "      <td>901.0</td>\n",
       "      <td>1</td>\n",
       "    </tr>\n",
       "    <tr>\n",
       "      <th>2447</th>\n",
       "      <td>TM00009</td>\n",
       "      <td>67111</td>\n",
       "      <td>901.0</td>\n",
       "      <td>1</td>\n",
       "    </tr>\n",
       "    <tr>\n",
       "      <th>2448</th>\n",
       "      <td>TP00332</td>\n",
       "      <td>80961</td>\n",
       "      <td>901.0</td>\n",
       "      <td>1</td>\n",
       "    </tr>\n",
       "    <tr>\n",
       "      <th>2449</th>\n",
       "      <td>TP00333</td>\n",
       "      <td>14537</td>\n",
       "      <td>901.0</td>\n",
       "      <td>1</td>\n",
       "    </tr>\n",
       "    <tr>\n",
       "      <th>2450</th>\n",
       "      <td>TM00005</td>\n",
       "      <td>22484</td>\n",
       "      <td>901.0</td>\n",
       "      <td>1</td>\n",
       "    </tr>\n",
       "  </tbody>\n",
       "</table>\n",
       "<p>2451 rows × 4 columns</p>\n",
       "</div>"
      ],
      "text/plain": [
       "     reference_tour_code  tour_number  Reklamationsgrund  complaint_count\n",
       "0                TG00012        85366              901.0             1914\n",
       "1                TG00033         7238              901.0             1662\n",
       "2                TG00012        85093              901.0             1296\n",
       "3                TG00012        85171              901.0             1278\n",
       "4                TG00033        88910              901.0             1140\n",
       "...                  ...          ...                ...              ...\n",
       "2446             TP00332         7453              901.0                1\n",
       "2447             TM00009        67111              901.0                1\n",
       "2448             TP00332        80961              901.0                1\n",
       "2449             TP00333        14537              901.0                1\n",
       "2450             TM00005        22484              901.0                1\n",
       "\n",
       "[2451 rows x 4 columns]"
      ]
     },
     "execution_count": 24,
     "metadata": {},
     "output_type": "execute_result"
    }
   ],
   "source": [
    "tour_nicht_geschafft.groupby(['reference_tour_code','tour_number','Reklamationsgrund']).size().sort_values(ascending=False).reset_index(name='complaint_count')"
   ]
  },
  {
   "cell_type": "markdown",
   "metadata": {},
   "source": [
    "A list of tours that were cancelled due to 'Tour nicht geschafft'"
   ]
  },
  {
   "cell_type": "code",
   "execution_count": 25,
   "metadata": {},
   "outputs": [],
   "source": [
    "list_cancelled_tours = tour_nicht_geschafft.groupby(['reference_tour_code','tour_number','Reklamationsgrund']).size().sort_values(ascending=False).reset_index()['tour_number']"
   ]
  },
  {
   "cell_type": "code",
   "execution_count": 26,
   "metadata": {},
   "outputs": [
    {
     "data": {
      "text/plain": [
       "0       85366\n",
       "1        7238\n",
       "2       85093\n",
       "3       85171\n",
       "4       88910\n",
       "        ...  \n",
       "2446     7453\n",
       "2447    67111\n",
       "2448    80961\n",
       "2449    14537\n",
       "2450    22484\n",
       "Name: tour_number, Length: 2451, dtype: int64"
      ]
     },
     "execution_count": 26,
     "metadata": {},
     "output_type": "execute_result"
    }
   ],
   "source": [
    "list_cancelled_tours"
   ]
  },
  {
   "cell_type": "markdown",
   "metadata": {},
   "source": [
    "l"
   ]
  },
  {
   "cell_type": "markdown",
   "metadata": {},
   "source": [
    "lets see when these cancelled tours happen, is there a seasonal componant"
   ]
  },
  {
   "cell_type": "code",
   "execution_count": 27,
   "metadata": {},
   "outputs": [
    {
     "data": {
      "text/html": [
       "<div>\n",
       "<style scoped>\n",
       "    .dataframe tbody tr th:only-of-type {\n",
       "        vertical-align: middle;\n",
       "    }\n",
       "\n",
       "    .dataframe tbody tr th {\n",
       "        vertical-align: top;\n",
       "    }\n",
       "\n",
       "    .dataframe thead th {\n",
       "        text-align: right;\n",
       "    }\n",
       "</style>\n",
       "<table border=\"1\" class=\"dataframe\">\n",
       "  <thead>\n",
       "    <tr style=\"text-align: right;\">\n",
       "      <th></th>\n",
       "      <th>tour_number</th>\n",
       "      <th>service_date</th>\n",
       "      <th>operational_site</th>\n",
       "      <th>reference_tour_number</th>\n",
       "      <th>reference_tour_code</th>\n",
       "    </tr>\n",
       "  </thead>\n",
       "  <tbody>\n",
       "    <tr>\n",
       "      <th>0</th>\n",
       "      <td>12964</td>\n",
       "      <td>2023-11-10</td>\n",
       "      <td>MONU</td>\n",
       "      <td>1</td>\n",
       "      <td>TP00335</td>\n",
       "    </tr>\n",
       "  </tbody>\n",
       "</table>\n",
       "</div>"
      ],
      "text/plain": [
       "   tour_number service_date operational_site  reference_tour_number  \\\n",
       "0        12964   2023-11-10             MONU                      1   \n",
       "\n",
       "  reference_tour_code  \n",
       "0             TP00335  "
      ]
     },
     "execution_count": 27,
     "metadata": {},
     "output_type": "execute_result"
    }
   ],
   "source": [
    "tours.head(1)"
   ]
  },
  {
   "cell_type": "code",
   "execution_count": 28,
   "metadata": {},
   "outputs": [
    {
     "data": {
      "text/html": [
       "<div>\n",
       "<style scoped>\n",
       "    .dataframe tbody tr th:only-of-type {\n",
       "        vertical-align: middle;\n",
       "    }\n",
       "\n",
       "    .dataframe tbody tr th {\n",
       "        vertical-align: top;\n",
       "    }\n",
       "\n",
       "    .dataframe thead th {\n",
       "        text-align: right;\n",
       "    }\n",
       "</style>\n",
       "<table border=\"1\" class=\"dataframe\">\n",
       "  <thead>\n",
       "    <tr style=\"text-align: right;\">\n",
       "      <th></th>\n",
       "      <th>tour_number</th>\n",
       "      <th>service_date</th>\n",
       "      <th>operational_site</th>\n",
       "      <th>reference_tour_number</th>\n",
       "      <th>reference_tour_code</th>\n",
       "    </tr>\n",
       "  </thead>\n",
       "  <tbody>\n",
       "    <tr>\n",
       "      <th>122</th>\n",
       "      <td>47060</td>\n",
       "      <td>2021-09-29</td>\n",
       "      <td>MONU</td>\n",
       "      <td>1</td>\n",
       "      <td>TP00335</td>\n",
       "    </tr>\n",
       "    <tr>\n",
       "      <th>375</th>\n",
       "      <td>14094</td>\n",
       "      <td>2023-12-27</td>\n",
       "      <td>MONU</td>\n",
       "      <td>1</td>\n",
       "      <td>TP00335</td>\n",
       "    </tr>\n",
       "    <tr>\n",
       "      <th>384</th>\n",
       "      <td>18690</td>\n",
       "      <td>2021-04-15</td>\n",
       "      <td>MONU</td>\n",
       "      <td>1</td>\n",
       "      <td>TP00335</td>\n",
       "    </tr>\n",
       "    <tr>\n",
       "      <th>412</th>\n",
       "      <td>65459</td>\n",
       "      <td>2022-09-27</td>\n",
       "      <td>MONU</td>\n",
       "      <td>1</td>\n",
       "      <td>TP00335</td>\n",
       "    </tr>\n",
       "    <tr>\n",
       "      <th>744</th>\n",
       "      <td>54629</td>\n",
       "      <td>2021-08-16</td>\n",
       "      <td>MONU</td>\n",
       "      <td>1</td>\n",
       "      <td>TP00335</td>\n",
       "    </tr>\n",
       "    <tr>\n",
       "      <th>...</th>\n",
       "      <td>...</td>\n",
       "      <td>...</td>\n",
       "      <td>...</td>\n",
       "      <td>...</td>\n",
       "      <td>...</td>\n",
       "    </tr>\n",
       "    <tr>\n",
       "      <th>138713</th>\n",
       "      <td>23369</td>\n",
       "      <td>2021-02-09</td>\n",
       "      <td>MONU</td>\n",
       "      <td>175</td>\n",
       "      <td>TP00403</td>\n",
       "    </tr>\n",
       "    <tr>\n",
       "      <th>138714</th>\n",
       "      <td>23370</td>\n",
       "      <td>2021-02-16</td>\n",
       "      <td>MONU</td>\n",
       "      <td>175</td>\n",
       "      <td>TP00403</td>\n",
       "    </tr>\n",
       "    <tr>\n",
       "      <th>138725</th>\n",
       "      <td>23840</td>\n",
       "      <td>2021-02-10</td>\n",
       "      <td>MONU</td>\n",
       "      <td>175</td>\n",
       "      <td>TP00403</td>\n",
       "    </tr>\n",
       "    <tr>\n",
       "      <th>138761</th>\n",
       "      <td>14624</td>\n",
       "      <td>2021-03-29</td>\n",
       "      <td>MONU</td>\n",
       "      <td>175</td>\n",
       "      <td>TP00403</td>\n",
       "    </tr>\n",
       "    <tr>\n",
       "      <th>138776</th>\n",
       "      <td>51070</td>\n",
       "      <td>2021-01-13</td>\n",
       "      <td>MONU</td>\n",
       "      <td>175</td>\n",
       "      <td>TP00403</td>\n",
       "    </tr>\n",
       "  </tbody>\n",
       "</table>\n",
       "<p>2891 rows × 5 columns</p>\n",
       "</div>"
      ],
      "text/plain": [
       "        tour_number service_date operational_site  reference_tour_number  \\\n",
       "122           47060   2021-09-29             MONU                      1   \n",
       "375           14094   2023-12-27             MONU                      1   \n",
       "384           18690   2021-04-15             MONU                      1   \n",
       "412           65459   2022-09-27             MONU                      1   \n",
       "744           54629   2021-08-16             MONU                      1   \n",
       "...             ...          ...              ...                    ...   \n",
       "138713        23369   2021-02-09             MONU                    175   \n",
       "138714        23370   2021-02-16             MONU                    175   \n",
       "138725        23840   2021-02-10             MONU                    175   \n",
       "138761        14624   2021-03-29             MONU                    175   \n",
       "138776        51070   2021-01-13             MONU                    175   \n",
       "\n",
       "       reference_tour_code  \n",
       "122                TP00335  \n",
       "375                TP00335  \n",
       "384                TP00335  \n",
       "412                TP00335  \n",
       "744                TP00335  \n",
       "...                    ...  \n",
       "138713             TP00403  \n",
       "138714             TP00403  \n",
       "138725             TP00403  \n",
       "138761             TP00403  \n",
       "138776             TP00403  \n",
       "\n",
       "[2891 rows x 5 columns]"
      ]
     },
     "execution_count": 28,
     "metadata": {},
     "output_type": "execute_result"
    }
   ],
   "source": [
    "tours[tours.tour_number.isin(list_cancelled_tours)]"
   ]
  },
  {
   "cell_type": "markdown",
   "metadata": {},
   "source": [
    "What proportion of tours get cancelled?"
   ]
  },
  {
   "cell_type": "code",
   "execution_count": null,
   "metadata": {},
   "outputs": [],
   "source": [
    "fig = plt.figure(figsize=(10, 6))\n",
    "plt.pie(tour_nicht_geschafft.Reklamationsgrund.value_counts(), labels=tour_nicht_geschafft.Reklamationsgrund.value_counts().index, autopct='%1.1f%%')"
   ]
  },
  {
   "cell_type": "code",
   "execution_count": 30,
   "metadata": {},
   "outputs": [
    {
     "name": "stderr",
     "output_type": "stream",
     "text": [
      "/var/folders/ch/cdbcz7115ms5zvq6n9ds4wn00000gn/T/ipykernel_21143/1692281037.py:5: UserWarning: FigureCanvasAgg is non-interactive, and thus cannot be shown\n",
      "  fig.show()\n"
     ]
    },
    {
     "data": {
      "image/png": "[encoded data removed]",
      "text/plain": [
       "<Figure size 1000x600 with 1 Axes>"
      ]
     },
     "metadata": {},
     "output_type": "display_data"
    }
   ],
   "source": [
    "fig= plt.figure(figsize=(10, 6))\n",
    "fig.suptitle('Cancelled tours breakdown by month', fontsize=16)\n",
    "tours[tours.tour_number.isin(list_cancelled_tours)].service_date.dt.month.value_counts().sort_index().plot(kind='bar')\n",
    "plt.tight_layout()\n",
    "fig.show()"
   ]
  },
  {
   "cell_type": "code",
   "execution_count": 34,
   "metadata": {},
   "outputs": [
    {
     "name": "stderr",
     "output_type": "stream",
     "text": [
      "/var/folders/ch/cdbcz7115ms5zvq6n9ds4wn00000gn/T/ipykernel_21143/3662547718.py:5: UserWarning: FigureCanvasAgg is non-interactive, and thus cannot be shown\n",
      "  fig.show()\n"
     ]
    },
    {
     "data": {
      "image/png": "[encoded data removed]",
      "text/plain": [
       "<Figure size 1000x600 with 1 Axes>"
      ]
     },
     "metadata": {},
     "output_type": "display_data"
    }
   ],
   "source": [
    "fig= plt.figure(figsize=(10, 6))\n",
    "fig.suptitle('Cancelled tours breakdown by day of the week', fontsize=16)\n",
    "tours[tours.tour_number.isin(list_cancelled_tours)].service_date.dt.day_of_week.value_counts().sort_index().plot(kind='bar')\n",
    "plt.tight_layout()\n",
    "fig.show()"
   ]
  },
  {
   "cell_type": "code",
   "execution_count": 35,
   "metadata": {},
   "outputs": [],
   "source": [
    "tours['cancelled'] = tours.apply(lambda x: 1 if x.tour_number in list_cancelled_tours else 0, axis=1)"
   ]
  },
  {
   "cell_type": "code",
   "execution_count": 37,
   "metadata": {},
   "outputs": [
    {
     "name": "stderr",
     "output_type": "stream",
     "text": [
      "/var/folders/ch/cdbcz7115ms5zvq6n9ds4wn00000gn/T/ipykernel_21143/3206953948.py:5: UserWarning: FigureCanvasAgg is non-interactive, and thus cannot be shown\n",
      "  fig.show()\n"
     ]
    },
    {
     "data": {
      "image/png": "[encoded data removed]",
      "text/plain": [
       "<Figure size 1000x600 with 1 Axes>"
      ]
     },
     "metadata": {},
     "output_type": "display_data"
    }
   ],
   "source": [
    "fig = plt.figure(figsize=(10, 6))\n",
    "fig.suptitle('Cancelled tours proportion', fontsize=16)\n",
    "tours.cancelled.value_counts().plot(kind='pie', autopct='%1.1f%%')\n",
    "plt.tight_layout()\n",
    "fig.show()"
   ]
  },
  {
   "cell_type": "code",
   "execution_count": 44,
   "metadata": {},
   "outputs": [
    {
     "data": {
      "text/html": [
       "<div>\n",
       "<style scoped>\n",
       "    .dataframe tbody tr th:only-of-type {\n",
       "        vertical-align: middle;\n",
       "    }\n",
       "\n",
       "    .dataframe tbody tr th {\n",
       "        vertical-align: top;\n",
       "    }\n",
       "\n",
       "    .dataframe thead th {\n",
       "        text-align: right;\n",
       "    }\n",
       "</style>\n",
       "<table border=\"1\" class=\"dataframe\">\n",
       "  <thead>\n",
       "    <tr style=\"text-align: right;\">\n",
       "      <th></th>\n",
       "      <th>%TOURNR</th>\n",
       "      <th>%DEBITOR%EINSATZSTELLE</th>\n",
       "      <th>Auftr.Auftragsnr.</th>\n",
       "      <th>Auftr.Einsatzdatum</th>\n",
       "      <th>Auftr.Menge</th>\n",
       "      <th>Auftr.Einheit</th>\n",
       "      <th>Auftr.Betriebsmittelnr.</th>\n",
       "      <th>Auftr.Int. Stoffkatalog</th>\n",
       "      <th>Artikel</th>\n",
       "      <th>Betriebsmittel</th>\n",
       "    </tr>\n",
       "  </thead>\n",
       "  <tbody>\n",
       "    <tr>\n",
       "      <th>0</th>\n",
       "      <td>32437</td>\n",
       "      <td>56418</td>\n",
       "      <td>A221790082</td>\n",
       "      <td>19.05.2022</td>\n",
       "      <td>1</td>\n",
       "      <td>Stück</td>\n",
       "      <td>20440.0</td>\n",
       "      <td>M760300</td>\n",
       "      <td>Kunststoffe</td>\n",
       "      <td>30m³ CT offen</td>\n",
       "    </tr>\n",
       "  </tbody>\n",
       "</table>\n",
       "</div>"
      ],
      "text/plain": [
       "   %TOURNR  %DEBITOR%EINSATZSTELLE Auftr.Auftragsnr. Auftr.Einsatzdatum  \\\n",
       "0    32437                   56418        A221790082         19.05.2022   \n",
       "\n",
       "  Auftr.Menge Auftr.Einheit  Auftr.Betriebsmittelnr. Auftr.Int. Stoffkatalog  \\\n",
       "0           1         Stück                  20440.0                 M760300   \n",
       "\n",
       "       Artikel Betriebsmittel  \n",
       "0  Kunststoffe  30m³ CT offen  "
      ]
     },
     "execution_count": 44,
     "metadata": {},
     "output_type": "execute_result"
    }
   ],
   "source": [
    "auftrag.head(1)"
   ]
  },
  {
   "cell_type": "code",
   "execution_count": 48,
   "metadata": {},
   "outputs": [
    {
     "data": {
      "text/plain": [
       "Artikel\n",
       "5.01 Altpapier, gemischt                   10117829\n",
       "Glas bunt Duales System                     1232640\n",
       "Glas weiß Duales System                     1186464\n",
       "gemischte Siedlungsabfälle                   610735\n",
       "1.02 Sortiertes gemischtes Papier             47989\n",
       "                                             ...   \n",
       "PE-Folie 50/50                                    1\n",
       "Schreddervormaterial aus Bau                      1\n",
       "3.14 Weißes Zeitungsdruckpapier                   1\n",
       "Rindenmulch                                       1\n",
       "Baumischabfall mit gefährlichen Stoffen           1\n",
       "Name: count, Length: 112, dtype: int64"
      ]
     },
     "execution_count": 48,
     "metadata": {},
     "output_type": "execute_result"
    }
   ],
   "source": [
    "auftrag.Artikel.value_counts()"
   ]
  },
  {
   "cell_type": "code",
   "execution_count": 45,
   "metadata": {},
   "outputs": [],
   "source": [
    "tours_auftrag = tours.merge(auftrag, left_on='tour_number', right_on='%TOURNR', how='left')"
   ]
  },
  {
   "cell_type": "markdown",
   "metadata": {},
   "source": [
    "Lets compare the cancelled and non-cancelled regarding their Artikel"
   ]
  },
  {
   "cell_type": "code",
   "execution_count": 59,
   "metadata": {},
   "outputs": [
    {
     "data": {
      "image/png": "[encoded data removed]",
      "text/plain": [
       "<Figure size 1000x600 with 1 Axes>"
      ]
     },
     "metadata": {},
     "output_type": "display_data"
    }
   ],
   "source": [
    "fig = plt.figure(figsize=(10, 6))\n",
    "fig.suptitle('Successful tours by Artikle')\n",
    "count_threshold = .01\n",
    "tours_auftrag[tours_auftrag.cancelled == 0].Artikel.value_counts(normalize= True)[lambda x: x > count_threshold].plot(kind='bar')\n",
    "plt.tight_layout()\n",
    "plt.show()"
   ]
  },
  {
   "cell_type": "code",
   "execution_count": 58,
   "metadata": {},
   "outputs": [
    {
     "data": {
      "image/png": "[encoded data removed]",
      "text/plain": [
       "<Figure size 1000x600 with 1 Axes>"
      ]
     },
     "metadata": {},
     "output_type": "display_data"
    }
   ],
   "source": [
    "fig = plt.figure(figsize=(10, 6))\n",
    "fig.suptitle('Unsuccessful tours by Artikle')\n",
    "count_threshold = .01\n",
    "tours_auftrag[tours_auftrag.cancelled == 1].Artikel.value_counts(normalize=True)[lambda x: x > count_threshold].plot(kind='bar')\n",
    "plt.tight_layout()\n",
    "plt.show()"
   ]
  },
  {
   "cell_type": "markdown",
   "metadata": {},
   "source": [
    "The proportions do seem to be off. We are more likely to see a a Glas be cancelled than another. Though we do need to run statistical tests to make sure"
   ]
  },
  {
   "cell_type": "code",
   "execution_count": 60,
   "metadata": {},
   "outputs": [
    {
     "name": "stdout",
     "output_type": "stream",
     "text": [
      "Columns and data types of \"resource\" dataset\n"
     ]
    },
    {
     "data": {
      "text/plain": [
       "%TOURNR                    int64\n",
       "%Mitarbeiternummer         int64\n",
       "Zeitarbeiter_Flag          int64\n",
       "Ressource.Erster Fahrer    int64\n",
       "dtype: object"
      ]
     },
     "metadata": {},
     "output_type": "display_data"
    },
    {
     "name": "stdout",
     "output_type": "stream",
     "text": [
      "Number of rows of \"resource\" dataset 344277\n",
      "Head of resource dataset\n"
     ]
    },
    {
     "data": {
      "text/html": [
       "<div>\n",
       "<style scoped>\n",
       "    .dataframe tbody tr th:only-of-type {\n",
       "        vertical-align: middle;\n",
       "    }\n",
       "\n",
       "    .dataframe tbody tr th {\n",
       "        vertical-align: top;\n",
       "    }\n",
       "\n",
       "    .dataframe thead th {\n",
       "        text-align: right;\n",
       "    }\n",
       "</style>\n",
       "<table border=\"1\" class=\"dataframe\">\n",
       "  <thead>\n",
       "    <tr style=\"text-align: right;\">\n",
       "      <th></th>\n",
       "      <th>%TOURNR</th>\n",
       "      <th>%Mitarbeiternummer</th>\n",
       "      <th>Zeitarbeiter_Flag</th>\n",
       "      <th>Ressource.Erster Fahrer</th>\n",
       "    </tr>\n",
       "  </thead>\n",
       "  <tbody>\n",
       "    <tr>\n",
       "      <th>0</th>\n",
       "      <td>95350</td>\n",
       "      <td>1</td>\n",
       "      <td>0</td>\n",
       "      <td>1</td>\n",
       "    </tr>\n",
       "    <tr>\n",
       "      <th>1</th>\n",
       "      <td>95350</td>\n",
       "      <td>2</td>\n",
       "      <td>0</td>\n",
       "      <td>0</td>\n",
       "    </tr>\n",
       "    <tr>\n",
       "      <th>2</th>\n",
       "      <td>95351</td>\n",
       "      <td>3</td>\n",
       "      <td>1</td>\n",
       "      <td>0</td>\n",
       "    </tr>\n",
       "    <tr>\n",
       "      <th>3</th>\n",
       "      <td>95351</td>\n",
       "      <td>4</td>\n",
       "      <td>0</td>\n",
       "      <td>1</td>\n",
       "    </tr>\n",
       "    <tr>\n",
       "      <th>4</th>\n",
       "      <td>95351</td>\n",
       "      <td>5</td>\n",
       "      <td>0</td>\n",
       "      <td>0</td>\n",
       "    </tr>\n",
       "  </tbody>\n",
       "</table>\n",
       "</div>"
      ],
      "text/plain": [
       "   %TOURNR  %Mitarbeiternummer  Zeitarbeiter_Flag  Ressource.Erster Fahrer\n",
       "0    95350                   1                  0                        1\n",
       "1    95350                   2                  0                        0\n",
       "2    95351                   3                  1                        0\n",
       "3    95351                   4                  0                        1\n",
       "4    95351                   5                  0                        0"
      ]
     },
     "metadata": {},
     "output_type": "display_data"
    },
    {
     "name": "stdout",
     "output_type": "stream",
     "text": [
      "\n",
      "Missing values in orders:\n",
      " %TOURNR                    0\n",
      "%Mitarbeiternummer         0\n",
      "Zeitarbeiter_Flag          0\n",
      "Ressource.Erster Fahrer    0\n",
      "dtype: int64\n"
     ]
    }
   ],
   "source": [
    "staff = load_and_preview_dataset('resource', datafolder, 'Ressource.csv')"
   ]
  },
  {
   "cell_type": "code",
   "execution_count": 61,
   "metadata": {},
   "outputs": [],
   "source": [
    "tours_auftrag_staff = tours_auftrag.merge(staff, left_on='tour_number', right_on='%TOURNR', how='left')"
   ]
  },
  {
   "cell_type": "code",
   "execution_count": 65,
   "metadata": {},
   "outputs": [
    {
     "data": {
      "text/html": [
       "<div>\n",
       "<style scoped>\n",
       "    .dataframe tbody tr th:only-of-type {\n",
       "        vertical-align: middle;\n",
       "    }\n",
       "\n",
       "    .dataframe tbody tr th {\n",
       "        vertical-align: top;\n",
       "    }\n",
       "\n",
       "    .dataframe thead th {\n",
       "        text-align: right;\n",
       "    }\n",
       "</style>\n",
       "<table border=\"1\" class=\"dataframe\">\n",
       "  <thead>\n",
       "    <tr style=\"text-align: right;\">\n",
       "      <th></th>\n",
       "      <th>tour_number</th>\n",
       "      <th>service_date</th>\n",
       "      <th>operational_site</th>\n",
       "      <th>reference_tour_number</th>\n",
       "      <th>reference_tour_code</th>\n",
       "      <th>cancelled</th>\n",
       "      <th>%TOURNR</th>\n",
       "      <th>%DEBITOR%EINSATZSTELLE</th>\n",
       "      <th>Auftr.Auftragsnr.</th>\n",
       "      <th>Auftr.Einsatzdatum</th>\n",
       "      <th>Auftr.Menge</th>\n",
       "      <th>Auftr.Einheit</th>\n",
       "      <th>Auftr.Betriebsmittelnr.</th>\n",
       "      <th>Auftr.Int. Stoffkatalog</th>\n",
       "      <th>Artikel</th>\n",
       "      <th>Betriebsmittel</th>\n",
       "    </tr>\n",
       "  </thead>\n",
       "  <tbody>\n",
       "    <tr>\n",
       "      <th>0</th>\n",
       "      <td>12964</td>\n",
       "      <td>2023-11-10</td>\n",
       "      <td>MONU</td>\n",
       "      <td>1</td>\n",
       "      <td>TP00335</td>\n",
       "      <td>0</td>\n",
       "      <td>12964.0</td>\n",
       "      <td>17750.0</td>\n",
       "      <td>A233972127</td>\n",
       "      <td>10.11.2023</td>\n",
       "      <td>1</td>\n",
       "      <td>Stück</td>\n",
       "      <td>10100.0</td>\n",
       "      <td>M610200</td>\n",
       "      <td>5.01 Altpapier, gemischt</td>\n",
       "      <td>1100 L MGB</td>\n",
       "    </tr>\n",
       "    <tr>\n",
       "      <th>1</th>\n",
       "      <td>12964</td>\n",
       "      <td>2023-11-10</td>\n",
       "      <td>MONU</td>\n",
       "      <td>1</td>\n",
       "      <td>TP00335</td>\n",
       "      <td>0</td>\n",
       "      <td>12964.0</td>\n",
       "      <td>13677.0</td>\n",
       "      <td>A233974524</td>\n",
       "      <td>10.11.2023</td>\n",
       "      <td>2</td>\n",
       "      <td>Stück</td>\n",
       "      <td>10100.0</td>\n",
       "      <td>M610200</td>\n",
       "      <td>5.01 Altpapier, gemischt</td>\n",
       "      <td>1100 L MGB</td>\n",
       "    </tr>\n",
       "    <tr>\n",
       "      <th>2</th>\n",
       "      <td>12964</td>\n",
       "      <td>2023-11-10</td>\n",
       "      <td>MONU</td>\n",
       "      <td>1</td>\n",
       "      <td>TP00335</td>\n",
       "      <td>0</td>\n",
       "      <td>12964.0</td>\n",
       "      <td>6147.0</td>\n",
       "      <td>A233959408</td>\n",
       "      <td>10.11.2023</td>\n",
       "      <td>1</td>\n",
       "      <td>Stück</td>\n",
       "      <td>10100.0</td>\n",
       "      <td>M610200</td>\n",
       "      <td>5.01 Altpapier, gemischt</td>\n",
       "      <td>1100 L MGB</td>\n",
       "    </tr>\n",
       "    <tr>\n",
       "      <th>3</th>\n",
       "      <td>12964</td>\n",
       "      <td>2023-11-10</td>\n",
       "      <td>MONU</td>\n",
       "      <td>1</td>\n",
       "      <td>TP00335</td>\n",
       "      <td>0</td>\n",
       "      <td>12964.0</td>\n",
       "      <td>22607.0</td>\n",
       "      <td>A233960982</td>\n",
       "      <td>10.11.2023</td>\n",
       "      <td>2</td>\n",
       "      <td>Stück</td>\n",
       "      <td>10100.0</td>\n",
       "      <td>M610200</td>\n",
       "      <td>5.01 Altpapier, gemischt</td>\n",
       "      <td>1100 L MGB</td>\n",
       "    </tr>\n",
       "    <tr>\n",
       "      <th>4</th>\n",
       "      <td>12964</td>\n",
       "      <td>2023-11-10</td>\n",
       "      <td>MONU</td>\n",
       "      <td>1</td>\n",
       "      <td>TP00335</td>\n",
       "      <td>0</td>\n",
       "      <td>12964.0</td>\n",
       "      <td>20442.0</td>\n",
       "      <td>A233959925</td>\n",
       "      <td>10.11.2023</td>\n",
       "      <td>4</td>\n",
       "      <td>Stück</td>\n",
       "      <td>10100.0</td>\n",
       "      <td>M610200</td>\n",
       "      <td>5.01 Altpapier, gemischt</td>\n",
       "      <td>1100 L MGB</td>\n",
       "    </tr>\n",
       "  </tbody>\n",
       "</table>\n",
       "</div>"
      ],
      "text/plain": [
       "   tour_number service_date operational_site  reference_tour_number  \\\n",
       "0        12964   2023-11-10             MONU                      1   \n",
       "1        12964   2023-11-10             MONU                      1   \n",
       "2        12964   2023-11-10             MONU                      1   \n",
       "3        12964   2023-11-10             MONU                      1   \n",
       "4        12964   2023-11-10             MONU                      1   \n",
       "\n",
       "  reference_tour_code  cancelled  %TOURNR  %DEBITOR%EINSATZSTELLE  \\\n",
       "0             TP00335          0  12964.0                 17750.0   \n",
       "1             TP00335          0  12964.0                 13677.0   \n",
       "2             TP00335          0  12964.0                  6147.0   \n",
       "3             TP00335          0  12964.0                 22607.0   \n",
       "4             TP00335          0  12964.0                 20442.0   \n",
       "\n",
       "  Auftr.Auftragsnr. Auftr.Einsatzdatum Auftr.Menge Auftr.Einheit  \\\n",
       "0        A233972127         10.11.2023           1         Stück   \n",
       "1        A233974524         10.11.2023           2         Stück   \n",
       "2        A233959408         10.11.2023           1         Stück   \n",
       "3        A233960982         10.11.2023           2         Stück   \n",
       "4        A233959925         10.11.2023           4         Stück   \n",
       "\n",
       "   Auftr.Betriebsmittelnr. Auftr.Int. Stoffkatalog                   Artikel  \\\n",
       "0                  10100.0                 M610200  5.01 Altpapier, gemischt   \n",
       "1                  10100.0                 M610200  5.01 Altpapier, gemischt   \n",
       "2                  10100.0                 M610200  5.01 Altpapier, gemischt   \n",
       "3                  10100.0                 M610200  5.01 Altpapier, gemischt   \n",
       "4                  10100.0                 M610200  5.01 Altpapier, gemischt   \n",
       "\n",
       "  Betriebsmittel  \n",
       "0     1100 L MGB  \n",
       "1     1100 L MGB  \n",
       "2     1100 L MGB  \n",
       "3     1100 L MGB  \n",
       "4     1100 L MGB  "
      ]
     },
     "execution_count": 65,
     "metadata": {},
     "output_type": "execute_result"
    }
   ],
   "source": [
    "tours_auftrag.head()"
   ]
  },
  {
   "cell_type": "code",
   "execution_count": 66,
   "metadata": {},
   "outputs": [
    {
     "data": {
      "text/html": [
       "<div>\n",
       "<style scoped>\n",
       "    .dataframe tbody tr th:only-of-type {\n",
       "        vertical-align: middle;\n",
       "    }\n",
       "\n",
       "    .dataframe tbody tr th {\n",
       "        vertical-align: top;\n",
       "    }\n",
       "\n",
       "    .dataframe thead th {\n",
       "        text-align: right;\n",
       "    }\n",
       "</style>\n",
       "<table border=\"1\" class=\"dataframe\">\n",
       "  <thead>\n",
       "    <tr style=\"text-align: right;\">\n",
       "      <th></th>\n",
       "      <th>tour_number</th>\n",
       "      <th>service_date</th>\n",
       "      <th>operational_site</th>\n",
       "      <th>reference_tour_number</th>\n",
       "      <th>reference_tour_code</th>\n",
       "      <th>cancelled</th>\n",
       "      <th>%TOURNR_x</th>\n",
       "      <th>%DEBITOR%EINSATZSTELLE</th>\n",
       "      <th>Auftr.Auftragsnr.</th>\n",
       "      <th>Auftr.Einsatzdatum</th>\n",
       "      <th>Auftr.Menge</th>\n",
       "      <th>Auftr.Einheit</th>\n",
       "      <th>Auftr.Betriebsmittelnr.</th>\n",
       "      <th>Auftr.Int. Stoffkatalog</th>\n",
       "      <th>Artikel</th>\n",
       "      <th>Betriebsmittel</th>\n",
       "      <th>%TOURNR_y</th>\n",
       "      <th>%Mitarbeiternummer</th>\n",
       "      <th>Zeitarbeiter_Flag</th>\n",
       "      <th>Ressource.Erster Fahrer</th>\n",
       "    </tr>\n",
       "  </thead>\n",
       "  <tbody>\n",
       "    <tr>\n",
       "      <th>0</th>\n",
       "      <td>12964</td>\n",
       "      <td>2023-11-10</td>\n",
       "      <td>MONU</td>\n",
       "      <td>1</td>\n",
       "      <td>TP00335</td>\n",
       "      <td>0</td>\n",
       "      <td>12964.0</td>\n",
       "      <td>17750.0</td>\n",
       "      <td>A233972127</td>\n",
       "      <td>10.11.2023</td>\n",
       "      <td>1</td>\n",
       "      <td>Stück</td>\n",
       "      <td>10100.0</td>\n",
       "      <td>M610200</td>\n",
       "      <td>5.01 Altpapier, gemischt</td>\n",
       "      <td>1100 L MGB</td>\n",
       "      <td>12964.0</td>\n",
       "      <td>433.0</td>\n",
       "      <td>0.0</td>\n",
       "      <td>0.0</td>\n",
       "    </tr>\n",
       "    <tr>\n",
       "      <th>1</th>\n",
       "      <td>12964</td>\n",
       "      <td>2023-11-10</td>\n",
       "      <td>MONU</td>\n",
       "      <td>1</td>\n",
       "      <td>TP00335</td>\n",
       "      <td>0</td>\n",
       "      <td>12964.0</td>\n",
       "      <td>17750.0</td>\n",
       "      <td>A233972127</td>\n",
       "      <td>10.11.2023</td>\n",
       "      <td>1</td>\n",
       "      <td>Stück</td>\n",
       "      <td>10100.0</td>\n",
       "      <td>M610200</td>\n",
       "      <td>5.01 Altpapier, gemischt</td>\n",
       "      <td>1100 L MGB</td>\n",
       "      <td>12964.0</td>\n",
       "      <td>509.0</td>\n",
       "      <td>0.0</td>\n",
       "      <td>1.0</td>\n",
       "    </tr>\n",
       "    <tr>\n",
       "      <th>2</th>\n",
       "      <td>12964</td>\n",
       "      <td>2023-11-10</td>\n",
       "      <td>MONU</td>\n",
       "      <td>1</td>\n",
       "      <td>TP00335</td>\n",
       "      <td>0</td>\n",
       "      <td>12964.0</td>\n",
       "      <td>13677.0</td>\n",
       "      <td>A233974524</td>\n",
       "      <td>10.11.2023</td>\n",
       "      <td>2</td>\n",
       "      <td>Stück</td>\n",
       "      <td>10100.0</td>\n",
       "      <td>M610200</td>\n",
       "      <td>5.01 Altpapier, gemischt</td>\n",
       "      <td>1100 L MGB</td>\n",
       "      <td>12964.0</td>\n",
       "      <td>433.0</td>\n",
       "      <td>0.0</td>\n",
       "      <td>0.0</td>\n",
       "    </tr>\n",
       "    <tr>\n",
       "      <th>3</th>\n",
       "      <td>12964</td>\n",
       "      <td>2023-11-10</td>\n",
       "      <td>MONU</td>\n",
       "      <td>1</td>\n",
       "      <td>TP00335</td>\n",
       "      <td>0</td>\n",
       "      <td>12964.0</td>\n",
       "      <td>13677.0</td>\n",
       "      <td>A233974524</td>\n",
       "      <td>10.11.2023</td>\n",
       "      <td>2</td>\n",
       "      <td>Stück</td>\n",
       "      <td>10100.0</td>\n",
       "      <td>M610200</td>\n",
       "      <td>5.01 Altpapier, gemischt</td>\n",
       "      <td>1100 L MGB</td>\n",
       "      <td>12964.0</td>\n",
       "      <td>509.0</td>\n",
       "      <td>0.0</td>\n",
       "      <td>1.0</td>\n",
       "    </tr>\n",
       "    <tr>\n",
       "      <th>4</th>\n",
       "      <td>12964</td>\n",
       "      <td>2023-11-10</td>\n",
       "      <td>MONU</td>\n",
       "      <td>1</td>\n",
       "      <td>TP00335</td>\n",
       "      <td>0</td>\n",
       "      <td>12964.0</td>\n",
       "      <td>6147.0</td>\n",
       "      <td>A233959408</td>\n",
       "      <td>10.11.2023</td>\n",
       "      <td>1</td>\n",
       "      <td>Stück</td>\n",
       "      <td>10100.0</td>\n",
       "      <td>M610200</td>\n",
       "      <td>5.01 Altpapier, gemischt</td>\n",
       "      <td>1100 L MGB</td>\n",
       "      <td>12964.0</td>\n",
       "      <td>433.0</td>\n",
       "      <td>0.0</td>\n",
       "      <td>0.0</td>\n",
       "    </tr>\n",
       "  </tbody>\n",
       "</table>\n",
       "</div>"
      ],
      "text/plain": [
       "   tour_number service_date operational_site  reference_tour_number  \\\n",
       "0        12964   2023-11-10             MONU                      1   \n",
       "1        12964   2023-11-10             MONU                      1   \n",
       "2        12964   2023-11-10             MONU                      1   \n",
       "3        12964   2023-11-10             MONU                      1   \n",
       "4        12964   2023-11-10             MONU                      1   \n",
       "\n",
       "  reference_tour_code  cancelled  %TOURNR_x  %DEBITOR%EINSATZSTELLE  \\\n",
       "0             TP00335          0    12964.0                 17750.0   \n",
       "1             TP00335          0    12964.0                 17750.0   \n",
       "2             TP00335          0    12964.0                 13677.0   \n",
       "3             TP00335          0    12964.0                 13677.0   \n",
       "4             TP00335          0    12964.0                  6147.0   \n",
       "\n",
       "  Auftr.Auftragsnr. Auftr.Einsatzdatum Auftr.Menge Auftr.Einheit  \\\n",
       "0        A233972127         10.11.2023           1         Stück   \n",
       "1        A233972127         10.11.2023           1         Stück   \n",
       "2        A233974524         10.11.2023           2         Stück   \n",
       "3        A233974524         10.11.2023           2         Stück   \n",
       "4        A233959408         10.11.2023           1         Stück   \n",
       "\n",
       "   Auftr.Betriebsmittelnr. Auftr.Int. Stoffkatalog                   Artikel  \\\n",
       "0                  10100.0                 M610200  5.01 Altpapier, gemischt   \n",
       "1                  10100.0                 M610200  5.01 Altpapier, gemischt   \n",
       "2                  10100.0                 M610200  5.01 Altpapier, gemischt   \n",
       "3                  10100.0                 M610200  5.01 Altpapier, gemischt   \n",
       "4                  10100.0                 M610200  5.01 Altpapier, gemischt   \n",
       "\n",
       "  Betriebsmittel  %TOURNR_y  %Mitarbeiternummer  Zeitarbeiter_Flag  \\\n",
       "0     1100 L MGB    12964.0               433.0                0.0   \n",
       "1     1100 L MGB    12964.0               509.0                0.0   \n",
       "2     1100 L MGB    12964.0               433.0                0.0   \n",
       "3     1100 L MGB    12964.0               509.0                0.0   \n",
       "4     1100 L MGB    12964.0               433.0                0.0   \n",
       "\n",
       "   Ressource.Erster Fahrer  \n",
       "0                      0.0  \n",
       "1                      1.0  \n",
       "2                      0.0  \n",
       "3                      1.0  \n",
       "4                      0.0  "
      ]
     },
     "execution_count": 66,
     "metadata": {},
     "output_type": "execute_result"
    }
   ],
   "source": [
    "tours_auftrag_staff.head()"
   ]
  }
 ],
 "metadata": {
  "kernelspec": {
   "display_name": "BR",
   "language": "python",
   "name": "python3"
  },
  "language_info": {
   "codemirror_mode": {
    "name": "ipython",
    "version": 3
   },
   "file_extension": ".py",
   "mimetype": "text/x-python",
   "name": "python",
   "nbconvert_exporter": "python",
   "pygments_lexer": "ipython3",
   "version": "3.11.9"
  }
 },
 "nbformat": 4,
 "nbformat_minor": 2
}
