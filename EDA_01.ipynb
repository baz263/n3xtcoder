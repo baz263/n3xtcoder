{
 "cells": [
  {
   "cell_type": "code",
   "execution_count": 1,
   "metadata": {},
   "outputs": [],
   "source": [
    "datafolder = \"24-04-24\""
   ]
  },
  {
   "cell_type": "code",
   "execution_count": 2,
   "metadata": {},
   "outputs": [],
   "source": [
    "# This Python 3 environment comes with many helpful analytics libraries installed\n",
    "# It is defined by the kaggle/python Docker image: https://github.com/kaggle/docker-python\n",
    "# For example, here's several helpful packages to load\n",
    "\n",
    "import os\n",
    "import numpy as np # linear algebra\n",
    "import pandas as pd # data processing, CSV file I/O (e.g. pd.read_csv)\n",
    "import matplotlib.pyplot as plt\n"
   ]
  },
  {
   "cell_type": "code",
   "execution_count": 40,
   "metadata": {},
   "outputs": [],
   "source": [
    "pd.set_option('display.max_rows', None)\n",
    "pd.set_option('display.max_columns', None)"
   ]
  },
  {
   "cell_type": "code",
   "execution_count": 3,
   "metadata": {},
   "outputs": [
    {
     "name": "stdout",
     "output_type": "stream",
     "text": [
      "data/24-04-24/Zeitposten.csv\n",
      "data/24-04-24/Ressource.csv\n",
      "data/24-04-24/Einsatzstelle.csv\n",
      "data/24-04-24/Reklamationen.csv\n",
      "data/24-04-24/Tour.csv\n",
      "data/24-04-24/Auftr„ge.csv\n"
     ]
    }
   ],
   "source": [
    "for dirname, _, filenames in os.walk('data/24-04-24'):\n",
    "    for filename in filenames:\n",
    "        print(os.path.join(dirname, filename))\n"
   ]
  },
  {
   "cell_type": "code",
   "execution_count": 4,
   "metadata": {},
   "outputs": [],
   "source": [
    "def load_and_preview_dataset(name, data_folder, filename, sep=','): \n",
    "    df = pd.read_csv(f'data/{data_folder}/{filename}', sep=sep)\n",
    "    print(f'Columns and data types of \"{name}\" dataset')\n",
    "    display(df.dtypes)\n",
    "    print(f'Number of rows of \"{name}\" dataset', len(df))\n",
    "    print(f'Head of {name} dataset')\n",
    "    display(df.head())\n",
    "    print(\"\\nMissing values in orders:\\n\", df.isnull().sum())\n",
    "    return df"
   ]
  },
  {
   "cell_type": "markdown",
   "metadata": {},
   "source": [
    "### tours"
   ]
  },
  {
   "cell_type": "code",
   "execution_count": 5,
   "metadata": {},
   "outputs": [
    {
     "name": "stdout",
     "output_type": "stream",
     "text": [
      "Columns and data types of \"tours\" dataset\n"
     ]
    },
    {
     "data": {
      "text/plain": [
       "%TOURNR            int64\n",
       "Einsatzdatum      object\n",
       "Betriebsstätte    object\n",
       "%Rahmentour        int64\n",
       "Rahmentourcode    object\n",
       "dtype: object"
      ]
     },
     "metadata": {},
     "output_type": "display_data"
    },
    {
     "name": "stdout",
     "output_type": "stream",
     "text": [
      "Number of rows of \"tours\" dataset 138953\n",
      "Head of tours dataset\n"
     ]
    },
    {
     "data": {
      "text/html": [
       "<div>\n",
       "<style scoped>\n",
       "    .dataframe tbody tr th:only-of-type {\n",
       "        vertical-align: middle;\n",
       "    }\n",
       "\n",
       "    .dataframe tbody tr th {\n",
       "        vertical-align: top;\n",
       "    }\n",
       "\n",
       "    .dataframe thead th {\n",
       "        text-align: right;\n",
       "    }\n",
       "</style>\n",
       "<table border=\"1\" class=\"dataframe\">\n",
       "  <thead>\n",
       "    <tr style=\"text-align: right;\">\n",
       "      <th></th>\n",
       "      <th>%TOURNR</th>\n",
       "      <th>Einsatzdatum</th>\n",
       "      <th>Betriebsstätte</th>\n",
       "      <th>%Rahmentour</th>\n",
       "      <th>Rahmentourcode</th>\n",
       "    </tr>\n",
       "  </thead>\n",
       "  <tbody>\n",
       "    <tr>\n",
       "      <th>0</th>\n",
       "      <td>12964</td>\n",
       "      <td>10.11.2023</td>\n",
       "      <td>MONU</td>\n",
       "      <td>1</td>\n",
       "      <td>TP00335</td>\n",
       "    </tr>\n",
       "    <tr>\n",
       "      <th>1</th>\n",
       "      <td>38897</td>\n",
       "      <td>07.02.2022</td>\n",
       "      <td>MONU</td>\n",
       "      <td>1</td>\n",
       "      <td>TP00335</td>\n",
       "    </tr>\n",
       "    <tr>\n",
       "      <th>2</th>\n",
       "      <td>73190</td>\n",
       "      <td>21.10.2022</td>\n",
       "      <td>MONU</td>\n",
       "      <td>1</td>\n",
       "      <td>TP00335</td>\n",
       "    </tr>\n",
       "    <tr>\n",
       "      <th>3</th>\n",
       "      <td>54020</td>\n",
       "      <td>06.08.2021</td>\n",
       "      <td>MONU</td>\n",
       "      <td>1</td>\n",
       "      <td>TP00335</td>\n",
       "    </tr>\n",
       "    <tr>\n",
       "      <th>4</th>\n",
       "      <td>78256</td>\n",
       "      <td>27.01.2023</td>\n",
       "      <td>MONU</td>\n",
       "      <td>1</td>\n",
       "      <td>TP00335</td>\n",
       "    </tr>\n",
       "  </tbody>\n",
       "</table>\n",
       "</div>"
      ],
      "text/plain": [
       "   %TOURNR Einsatzdatum Betriebsstätte  %Rahmentour Rahmentourcode\n",
       "0    12964   10.11.2023           MONU            1        TP00335\n",
       "1    38897   07.02.2022           MONU            1        TP00335\n",
       "2    73190   21.10.2022           MONU            1        TP00335\n",
       "3    54020   06.08.2021           MONU            1        TP00335\n",
       "4    78256   27.01.2023           MONU            1        TP00335"
      ]
     },
     "metadata": {},
     "output_type": "display_data"
    },
    {
     "name": "stdout",
     "output_type": "stream",
     "text": [
      "\n",
      "Missing values in orders:\n",
      " %TOURNR           0\n",
      "Einsatzdatum      0\n",
      "Betriebsstätte    1\n",
      "%Rahmentour       0\n",
      "Rahmentourcode    0\n",
      "dtype: int64\n"
     ]
    }
   ],
   "source": [
    "tours = load_and_preview_dataset('tours', datafolder, 'Tour.csv')"
   ]
  },
  {
   "cell_type": "code",
   "execution_count": 6,
   "metadata": {},
   "outputs": [
    {
     "data": {
      "text/html": [
       "<div>\n",
       "<style scoped>\n",
       "    .dataframe tbody tr th:only-of-type {\n",
       "        vertical-align: middle;\n",
       "    }\n",
       "\n",
       "    .dataframe tbody tr th {\n",
       "        vertical-align: top;\n",
       "    }\n",
       "\n",
       "    .dataframe thead th {\n",
       "        text-align: right;\n",
       "    }\n",
       "</style>\n",
       "<table border=\"1\" class=\"dataframe\">\n",
       "  <thead>\n",
       "    <tr style=\"text-align: right;\">\n",
       "      <th></th>\n",
       "      <th>tour_number</th>\n",
       "      <th>service_date</th>\n",
       "      <th>operational_site</th>\n",
       "      <th>reference_tour_number</th>\n",
       "      <th>reference_tour_code</th>\n",
       "    </tr>\n",
       "  </thead>\n",
       "  <tbody>\n",
       "    <tr>\n",
       "      <th>0</th>\n",
       "      <td>12964</td>\n",
       "      <td>10.11.2023</td>\n",
       "      <td>MONU</td>\n",
       "      <td>1</td>\n",
       "      <td>TP00335</td>\n",
       "    </tr>\n",
       "    <tr>\n",
       "      <th>1</th>\n",
       "      <td>38897</td>\n",
       "      <td>07.02.2022</td>\n",
       "      <td>MONU</td>\n",
       "      <td>1</td>\n",
       "      <td>TP00335</td>\n",
       "    </tr>\n",
       "    <tr>\n",
       "      <th>2</th>\n",
       "      <td>73190</td>\n",
       "      <td>21.10.2022</td>\n",
       "      <td>MONU</td>\n",
       "      <td>1</td>\n",
       "      <td>TP00335</td>\n",
       "    </tr>\n",
       "    <tr>\n",
       "      <th>3</th>\n",
       "      <td>54020</td>\n",
       "      <td>06.08.2021</td>\n",
       "      <td>MONU</td>\n",
       "      <td>1</td>\n",
       "      <td>TP00335</td>\n",
       "    </tr>\n",
       "    <tr>\n",
       "      <th>4</th>\n",
       "      <td>78256</td>\n",
       "      <td>27.01.2023</td>\n",
       "      <td>MONU</td>\n",
       "      <td>1</td>\n",
       "      <td>TP00335</td>\n",
       "    </tr>\n",
       "  </tbody>\n",
       "</table>\n",
       "</div>"
      ],
      "text/plain": [
       "   tour_number service_date operational_site  reference_tour_number  \\\n",
       "0        12964   10.11.2023             MONU                      1   \n",
       "1        38897   07.02.2022             MONU                      1   \n",
       "2        73190   21.10.2022             MONU                      1   \n",
       "3        54020   06.08.2021             MONU                      1   \n",
       "4        78256   27.01.2023             MONU                      1   \n",
       "\n",
       "  reference_tour_code  \n",
       "0             TP00335  \n",
       "1             TP00335  \n",
       "2             TP00335  \n",
       "3             TP00335  \n",
       "4             TP00335  "
      ]
     },
     "metadata": {},
     "output_type": "display_data"
    }
   ],
   "source": [
    "tours = tours.rename(columns={\n",
    "    '%TOURNR': 'tour_number',\n",
    "    'Einsatzdatum': 'service_date',\n",
    "    'Betriebsstätte': 'operational_site',\n",
    "    '%Rahmentour': 'reference_tour_number',\n",
    "    'Rahmentourcode': 'reference_tour_code'\n",
    "})\n",
    "display(tours.head())"
   ]
  },
  {
   "cell_type": "markdown",
   "metadata": {},
   "source": [
    "### how many actual 'routes' do we have"
   ]
  },
  {
   "cell_type": "code",
   "execution_count": 34,
   "metadata": {},
   "outputs": [
    {
     "name": "stdout",
     "output_type": "stream",
     "text": [
      "the number of distinct tours is: 199\n"
     ]
    }
   ],
   "source": [
    "print(f'the number of distinct tours is: {len(tours.reference_tour_code.unique())}')"
   ]
  },
  {
   "cell_type": "markdown",
   "metadata": {},
   "source": [
    "### lets have a look at the operational sites\n",
    "does an operational site always have the same reference_tour_numb er and reference_tour_code"
   ]
  },
  {
   "cell_type": "code",
   "execution_count": 8,
   "metadata": {},
   "outputs": [
    {
     "name": "stdout",
     "output_type": "stream",
     "text": [
      "<class 'pandas.core.frame.DataFrame'>\n",
      "RangeIndex: 138953 entries, 0 to 138952\n",
      "Data columns (total 5 columns):\n",
      " #   Column                 Non-Null Count   Dtype \n",
      "---  ------                 --------------   ----- \n",
      " 0   tour_number            138953 non-null  int64 \n",
      " 1   service_date           138953 non-null  object\n",
      " 2   operational_site       138952 non-null  object\n",
      " 3   reference_tour_number  138953 non-null  int64 \n",
      " 4   reference_tour_code    138953 non-null  object\n",
      "dtypes: int64(2), object(3)\n",
      "memory usage: 5.3+ MB\n"
     ]
    }
   ],
   "source": [
    "tours.info()"
   ]
  },
  {
   "cell_type": "code",
   "execution_count": 7,
   "metadata": {},
   "outputs": [
    {
     "data": {
      "text/plain": [
       "operational_site\n",
       "MONU    138952\n",
       "Name: count, dtype: int64"
      ]
     },
     "execution_count": 7,
     "metadata": {},
     "output_type": "execute_result"
    }
   ],
   "source": [
    "tours.operational_site.value_counts()"
   ]
  },
  {
   "cell_type": "code",
   "execution_count": 24,
   "metadata": {},
   "outputs": [
    {
     "data": {
      "text/plain": [
       "reference_tour_number\n",
       "136    3390\n",
       "126    2893\n",
       "51     2722\n",
       "27     2708\n",
       "124    2665\n",
       "       ... \n",
       "191       1\n",
       "193       1\n",
       "192       1\n",
       "190       1\n",
       "199       1\n",
       "Name: count, Length: 199, dtype: int64"
      ]
     },
     "execution_count": 24,
     "metadata": {},
     "output_type": "execute_result"
    }
   ],
   "source": [
    "tours.reference_tour_number.value_counts()"
   ]
  },
  {
   "cell_type": "code",
   "execution_count": 13,
   "metadata": {},
   "outputs": [
    {
     "data": {
      "image/png": "[encoded data removed]",
      "text/plain": [
       "<Figure size 1000x600 with 1 Axes>"
      ]
     },
     "metadata": {},
     "output_type": "display_data"
    }
   ],
   "source": [
    "fig = plt.figure(figsize=(10, 6))\n",
    "fig.suptitle('reference_tour_number breakdown', fontsize=16)\n",
    "tours.reference_tour_number.value_counts().plot(kind='bar', rot=90)\n",
    "plt.tight_layout()\n",
    "\n",
    "plt.show()"
   ]
  },
  {
   "cell_type": "markdown",
   "metadata": {},
   "source": [
    "Reference Tour numbers have a real spread.  \n",
    "Ranging from 3500 occurrences to 1\n",
    "lets do the same for the reference tour code to see how that looks"
   ]
  },
  {
   "cell_type": "code",
   "execution_count": 23,
   "metadata": {},
   "outputs": [
    {
     "data": {
      "text/plain": [
       "reference_tour_code\n",
       "TCT0011       3390\n",
       "TCT0008       2893\n",
       "TGIGLU0712    2722\n",
       "TCT0014       2708\n",
       "TCT0005       2665\n",
       "              ... \n",
       "TP00105          1\n",
       "TP00106          1\n",
       "TP00103          1\n",
       "TP00104          1\n",
       "TM00669          1\n",
       "Name: count, Length: 199, dtype: int64"
      ]
     },
     "execution_count": 23,
     "metadata": {},
     "output_type": "execute_result"
    }
   ],
   "source": [
    "tours.reference_tour_code.value_counts()"
   ]
  },
  {
   "cell_type": "code",
   "execution_count": 14,
   "metadata": {},
   "outputs": [
    {
     "data": {
      "image/png": "[encoded data removed]",
      "text/plain": [
       "<Figure size 1000x600 with 1 Axes>"
      ]
     },
     "metadata": {},
     "output_type": "display_data"
    }
   ],
   "source": [
    "fig = plt.figure(figsize=(10, 6))\n",
    "fig.suptitle('reference_tour_code breakdown', fontsize=16)\n",
    "tours.reference_tour_code.value_counts().plot(kind='bar', rot=90)\n",
    "plt.tight_layout()\n",
    "\n",
    "plt.show()"
   ]
  },
  {
   "cell_type": "code",
   "execution_count": 26,
   "metadata": {},
   "outputs": [
    {
     "name": "stdout",
     "output_type": "stream",
     "text": [
      "True\n"
     ]
    }
   ],
   "source": [
    "is_same = np.array_equal(tours.reference_tour_number.value_counts().values, tours.reference_tour_code.value_counts().values)\n",
    "\n",
    "print(is_same)"
   ]
  },
  {
   "cell_type": "markdown",
   "metadata": {},
   "source": [
    "tours.reference_tour_number and reference_tour_code are essentially the same data. just encoded differently"
   ]
  },
  {
   "cell_type": "markdown",
   "metadata": {},
   "source": [
    "I want to join the reklamtion table to the Tour table\n",
    "Reklmation foreign key is % TOURNR"
   ]
  },
  {
   "cell_type": "code",
   "execution_count": 27,
   "metadata": {},
   "outputs": [
    {
     "name": "stdout",
     "output_type": "stream",
     "text": [
      "Columns and data types of \"reklmationen\" dataset\n"
     ]
    },
    {
     "name": "stderr",
     "output_type": "stream",
     "text": [
      "/var/folders/ch/cdbcz7115ms5zvq6n9ds4wn00000gn/T/ipykernel_9394/1101745544.py:2: DtypeWarning: Columns (4) have mixed types. Specify dtype option on import or set low_memory=False.\n",
      "  df = pd.read_csv(f'data/{data_folder}/{filename}', sep=sep)\n"
     ]
    },
    {
     "data": {
      "text/plain": [
       "%TOURNR                                 int64\n",
       "Belegnr.                               object\n",
       "Reklamationsgrund                       int64\n",
       "Grund                                  object\n",
       "Reklamationsuntergrund Beschreibung    object\n",
       "dtype: object"
      ]
     },
     "metadata": {},
     "output_type": "display_data"
    },
    {
     "name": "stdout",
     "output_type": "stream",
     "text": [
      "Number of rows of \"reklmationen\" dataset 790425\n",
      "Head of reklmationen dataset\n"
     ]
    },
    {
     "data": {
      "text/html": [
       "<div>\n",
       "<style scoped>\n",
       "    .dataframe tbody tr th:only-of-type {\n",
       "        vertical-align: middle;\n",
       "    }\n",
       "\n",
       "    .dataframe tbody tr th {\n",
       "        vertical-align: top;\n",
       "    }\n",
       "\n",
       "    .dataframe thead th {\n",
       "        text-align: right;\n",
       "    }\n",
       "</style>\n",
       "<table border=\"1\" class=\"dataframe\">\n",
       "  <thead>\n",
       "    <tr style=\"text-align: right;\">\n",
       "      <th></th>\n",
       "      <th>%TOURNR</th>\n",
       "      <th>Belegnr.</th>\n",
       "      <th>Reklamationsgrund</th>\n",
       "      <th>Grund</th>\n",
       "      <th>Reklamationsuntergrund Beschreibung</th>\n",
       "    </tr>\n",
       "  </thead>\n",
       "  <tbody>\n",
       "    <tr>\n",
       "      <th>0</th>\n",
       "      <td>160016</td>\n",
       "      <td>A241067066</td>\n",
       "      <td>402</td>\n",
       "      <td>BB Deckel beschädigt</td>\n",
       "      <td>großer Deckel - Hauptdeckel</td>\n",
       "    </tr>\n",
       "    <tr>\n",
       "      <th>1</th>\n",
       "      <td>122761</td>\n",
       "      <td>A240871203</td>\n",
       "      <td>501</td>\n",
       "      <td>Ü Ladestelle beräumt</td>\n",
       "      <td>Mehrmengen mitgenommen (MMM)</td>\n",
       "    </tr>\n",
       "    <tr>\n",
       "      <th>2</th>\n",
       "      <td>97644</td>\n",
       "      <td>A240929593</td>\n",
       "      <td>501</td>\n",
       "      <td>Ü Ladestelle beräumt</td>\n",
       "      <td>Mehrmengen mitgenommen (MMM)</td>\n",
       "    </tr>\n",
       "    <tr>\n",
       "      <th>3</th>\n",
       "      <td>121874</td>\n",
       "      <td>A240803399</td>\n",
       "      <td>501</td>\n",
       "      <td>Ü Ladestelle beräumt</td>\n",
       "      <td>Mehrmengen mitgenommen (MMM)</td>\n",
       "    </tr>\n",
       "    <tr>\n",
       "      <th>4</th>\n",
       "      <td>122263</td>\n",
       "      <td>A240977660</td>\n",
       "      <td>501</td>\n",
       "      <td>Ü Ladestelle beräumt</td>\n",
       "      <td>Mehrmengen mitgenommen (MMM)</td>\n",
       "    </tr>\n",
       "  </tbody>\n",
       "</table>\n",
       "</div>"
      ],
      "text/plain": [
       "   %TOURNR    Belegnr.  Reklamationsgrund                 Grund  \\\n",
       "0   160016  A241067066                402  BB Deckel beschädigt   \n",
       "1   122761  A240871203                501  Ü Ladestelle beräumt   \n",
       "2    97644  A240929593                501  Ü Ladestelle beräumt   \n",
       "3   121874  A240803399                501  Ü Ladestelle beräumt   \n",
       "4   122263  A240977660                501  Ü Ladestelle beräumt   \n",
       "\n",
       "  Reklamationsuntergrund Beschreibung  \n",
       "0         großer Deckel - Hauptdeckel  \n",
       "1        Mehrmengen mitgenommen (MMM)  \n",
       "2        Mehrmengen mitgenommen (MMM)  \n",
       "3        Mehrmengen mitgenommen (MMM)  \n",
       "4        Mehrmengen mitgenommen (MMM)  "
      ]
     },
     "metadata": {},
     "output_type": "display_data"
    },
    {
     "name": "stdout",
     "output_type": "stream",
     "text": [
      "\n",
      "Missing values in orders:\n",
      " %TOURNR                                     0\n",
      "Belegnr.                                    0\n",
      "Reklamationsgrund                           0\n",
      "Grund                                      24\n",
      "Reklamationsuntergrund Beschreibung    557898\n",
      "dtype: int64\n"
     ]
    }
   ],
   "source": [
    "reklmationen = load_and_preview_dataset('reklmationen', datafolder, 'Reklamationen.csv')"
   ]
  },
  {
   "cell_type": "code",
   "execution_count": 29,
   "metadata": {},
   "outputs": [],
   "source": [
    "tours_reklmation = tours.merge(reklmationen, left_on='tour_number', right_on='%TOURNR', how='left')"
   ]
  },
  {
   "cell_type": "code",
   "execution_count": 36,
   "metadata": {},
   "outputs": [
    {
     "name": "stdout",
     "output_type": "stream",
     "text": [
      "how many actual complaint reasons do we have: 70\n"
     ]
    }
   ],
   "source": [
    "print(f'how many actual complaint reasons do we have: {len(tours_reklmation.Grund.unique())}')"
   ]
  },
  {
   "cell_type": "markdown",
   "metadata": {},
   "source": [
    "Thats a lot fewer reasons that I expected"
   ]
  },
  {
   "cell_type": "code",
   "execution_count": 41,
   "metadata": {},
   "outputs": [
    {
     "data": {
      "text/html": [
       "<div>\n",
       "<style scoped>\n",
       "    .dataframe tbody tr th:only-of-type {\n",
       "        vertical-align: middle;\n",
       "    }\n",
       "\n",
       "    .dataframe tbody tr th {\n",
       "        vertical-align: top;\n",
       "    }\n",
       "\n",
       "    .dataframe thead th {\n",
       "        text-align: right;\n",
       "    }\n",
       "</style>\n",
       "<table border=\"1\" class=\"dataframe\">\n",
       "  <thead>\n",
       "    <tr style=\"text-align: right;\">\n",
       "      <th></th>\n",
       "      <th>0</th>\n",
       "    </tr>\n",
       "  </thead>\n",
       "  <tbody>\n",
       "    <tr>\n",
       "      <th>0</th>\n",
       "      <td>BB Rad beschädigt</td>\n",
       "    </tr>\n",
       "    <tr>\n",
       "      <th>1</th>\n",
       "      <td>VSS Schlüssel/Code erforderlich</td>\n",
       "    </tr>\n",
       "    <tr>\n",
       "      <th>2</th>\n",
       "      <td>VST Tresorproblem</td>\n",
       "    </tr>\n",
       "    <tr>\n",
       "      <th>3</th>\n",
       "      <td>TV Transportweg versperrt</td>\n",
       "    </tr>\n",
       "    <tr>\n",
       "      <th>4</th>\n",
       "      <td>Behälter in Schüttung gefallen</td>\n",
       "    </tr>\n",
       "    <tr>\n",
       "      <th>5</th>\n",
       "      <td>Behälter fehlt</td>\n",
       "    </tr>\n",
       "    <tr>\n",
       "      <th>6</th>\n",
       "      <td>RC Behälter vermüllt</td>\n",
       "    </tr>\n",
       "    <tr>\n",
       "      <th>7</th>\n",
       "      <td>NaN</td>\n",
       "    </tr>\n",
       "    <tr>\n",
       "      <th>8</th>\n",
       "      <td>NB nicht bereitgestellter Behälter</td>\n",
       "    </tr>\n",
       "    <tr>\n",
       "      <th>9</th>\n",
       "      <td>Behälter zu schwer</td>\n",
       "    </tr>\n",
       "    <tr>\n",
       "      <th>10</th>\n",
       "      <td>TB Transportweg Baustelle kurz</td>\n",
       "    </tr>\n",
       "    <tr>\n",
       "      <th>11</th>\n",
       "      <td>SOV Sonstige Vorkommnisse</td>\n",
       "    </tr>\n",
       "    <tr>\n",
       "      <th>12</th>\n",
       "      <td>Z3 Schloss fehlt od. defekt</td>\n",
       "    </tr>\n",
       "    <tr>\n",
       "      <th>13</th>\n",
       "      <td>BB Deckel beschädigt</td>\n",
       "    </tr>\n",
       "    <tr>\n",
       "      <th>14</th>\n",
       "      <td>SZ /Urlaub/Schließzeit/VS</td>\n",
       "    </tr>\n",
       "    <tr>\n",
       "      <th>15</th>\n",
       "      <td>leerer Behälter - 0 Menge -</td>\n",
       "    </tr>\n",
       "    <tr>\n",
       "      <th>16</th>\n",
       "      <td>BB Zapfen beschädigt</td>\n",
       "    </tr>\n",
       "    <tr>\n",
       "      <th>17</th>\n",
       "      <td>Behälter-Rumpf defekt</td>\n",
       "    </tr>\n",
       "    <tr>\n",
       "      <th>18</th>\n",
       "      <td>Fremdtonne</td>\n",
       "    </tr>\n",
       "    <tr>\n",
       "      <th>19</th>\n",
       "      <td>LV Ladestelle vermüllt</td>\n",
       "    </tr>\n",
       "    <tr>\n",
       "      <th>20</th>\n",
       "      <td>TB Transportweg Baustelle</td>\n",
       "    </tr>\n",
       "    <tr>\n",
       "      <th>21</th>\n",
       "      <td>Nicht geladen - Nachleerung</td>\n",
       "    </tr>\n",
       "    <tr>\n",
       "      <th>22</th>\n",
       "      <td>Ü Erhöhung erforderlich</td>\n",
       "    </tr>\n",
       "    <tr>\n",
       "      <th>23</th>\n",
       "      <td>Fahrzeugausfall/Fahrzeugwechsel</td>\n",
       "    </tr>\n",
       "    <tr>\n",
       "      <th>24</th>\n",
       "      <td>Tour nicht geschafft</td>\n",
       "    </tr>\n",
       "    <tr>\n",
       "      <th>25</th>\n",
       "      <td>Ü Ladestelle beräumt</td>\n",
       "    </tr>\n",
       "    <tr>\n",
       "      <th>26</th>\n",
       "      <td>Standort für Behälter unklar</td>\n",
       "    </tr>\n",
       "    <tr>\n",
       "      <th>27</th>\n",
       "      <td>Storno - Leistung storniert, keine Leerung</td>\n",
       "    </tr>\n",
       "    <tr>\n",
       "      <th>28</th>\n",
       "      <td>Ü nur Behälter geladen</td>\n",
       "    </tr>\n",
       "    <tr>\n",
       "      <th>29</th>\n",
       "      <td>Coronaschließung - keine Entsorgung</td>\n",
       "    </tr>\n",
       "    <tr>\n",
       "      <th>30</th>\n",
       "      <td>VS kein Schlüssel erforderlich</td>\n",
       "    </tr>\n",
       "    <tr>\n",
       "      <th>31</th>\n",
       "      <td>Leerung ist erfolgt - Foto erstellt</td>\n",
       "    </tr>\n",
       "    <tr>\n",
       "      <th>32</th>\n",
       "      <td>Rattenbefall - keine Leerung</td>\n",
       "    </tr>\n",
       "    <tr>\n",
       "      <th>33</th>\n",
       "      <td>Unfall - Fahrzeug - Eigenverschulden</td>\n",
       "    </tr>\n",
       "    <tr>\n",
       "      <th>34</th>\n",
       "      <td>CT/AK - Leerfahrt</td>\n",
       "    </tr>\n",
       "    <tr>\n",
       "      <th>35</th>\n",
       "      <td>Unfall - Fahrzeug - Fremdverschulden</td>\n",
       "    </tr>\n",
       "    <tr>\n",
       "      <th>36</th>\n",
       "      <td>Fahrstuhl defekt</td>\n",
       "    </tr>\n",
       "    <tr>\n",
       "      <th>37</th>\n",
       "      <td>Behälter zuviel</td>\n",
       "    </tr>\n",
       "    <tr>\n",
       "      <th>38</th>\n",
       "      <td>Nicht vollständig geladen</td>\n",
       "    </tr>\n",
       "    <tr>\n",
       "      <th>39</th>\n",
       "      <td>Behälter falsch/nicht zurückgestellt</td>\n",
       "    </tr>\n",
       "    <tr>\n",
       "      <th>40</th>\n",
       "      <td>Bemerkungstexte anpassen</td>\n",
       "    </tr>\n",
       "    <tr>\n",
       "      <th>41</th>\n",
       "      <td>VB Verdreckter Behälter</td>\n",
       "    </tr>\n",
       "    <tr>\n",
       "      <th>42</th>\n",
       "      <td>Brenner - Behälter beschädigt</td>\n",
       "    </tr>\n",
       "    <tr>\n",
       "      <th>43</th>\n",
       "      <td>Freilaufender Hund - GS nicht betreten</td>\n",
       "    </tr>\n",
       "    <tr>\n",
       "      <th>44</th>\n",
       "      <td>TT - Schlüssel für TT-Abfuhr</td>\n",
       "    </tr>\n",
       "    <tr>\n",
       "      <th>45</th>\n",
       "      <td>Tourenplanung neu</td>\n",
       "    </tr>\n",
       "    <tr>\n",
       "      <th>46</th>\n",
       "      <td>Nicht nachgeladen - Gutschrift</td>\n",
       "    </tr>\n",
       "    <tr>\n",
       "      <th>47</th>\n",
       "      <td>AFM - Entsorger hat nicht geladen</td>\n",
       "    </tr>\n",
       "    <tr>\n",
       "      <th>48</th>\n",
       "      <td>Behälter - Reste angefroren</td>\n",
       "    </tr>\n",
       "    <tr>\n",
       "      <th>49</th>\n",
       "      <td>Keine RE/GS/MA erhalten</td>\n",
       "    </tr>\n",
       "    <tr>\n",
       "      <th>50</th>\n",
       "      <td>Behälter nur gestellt</td>\n",
       "    </tr>\n",
       "    <tr>\n",
       "      <th>51</th>\n",
       "      <td>Einzugsermächtigung nicht berücksichtigt</td>\n",
       "    </tr>\n",
       "    <tr>\n",
       "      <th>52</th>\n",
       "      <td>AFM - Auftragsveränderungen</td>\n",
       "    </tr>\n",
       "    <tr>\n",
       "      <th>53</th>\n",
       "      <td>Unfall - Haftpflichtschaden/keine Fahrzeugbete...</td>\n",
       "    </tr>\n",
       "    <tr>\n",
       "      <th>54</th>\n",
       "      <td>CT/AK Container/Mulde  defekt</td>\n",
       "    </tr>\n",
       "    <tr>\n",
       "      <th>55</th>\n",
       "      <td>Größe falsch</td>\n",
       "    </tr>\n",
       "    <tr>\n",
       "      <th>56</th>\n",
       "      <td>Nicht Geladen - Gutschrift</td>\n",
       "    </tr>\n",
       "    <tr>\n",
       "      <th>57</th>\n",
       "      <td>RE/GS/MA für Kunden unklar</td>\n",
       "    </tr>\n",
       "    <tr>\n",
       "      <th>58</th>\n",
       "      <td>Falsche RE/GS/MA</td>\n",
       "    </tr>\n",
       "    <tr>\n",
       "      <th>59</th>\n",
       "      <td>Nicht geladen - MMM mitnehmen</td>\n",
       "    </tr>\n",
       "    <tr>\n",
       "      <th>60</th>\n",
       "      <td>IGLU-Behälter defekt</td>\n",
       "    </tr>\n",
       "    <tr>\n",
       "      <th>61</th>\n",
       "      <td>CT/AK - Material/Falschbefüllung</td>\n",
       "    </tr>\n",
       "    <tr>\n",
       "      <th>62</th>\n",
       "      <td>UFC-Behälter defekt</td>\n",
       "    </tr>\n",
       "    <tr>\n",
       "      <th>63</th>\n",
       "      <td>Glasabzug</td>\n",
       "    </tr>\n",
       "    <tr>\n",
       "      <th>64</th>\n",
       "      <td>AFM - Standplatzbetreuung</td>\n",
       "    </tr>\n",
       "    <tr>\n",
       "      <th>65</th>\n",
       "      <td>Fehlverhalten allgemein</td>\n",
       "    </tr>\n",
       "    <tr>\n",
       "      <th>66</th>\n",
       "      <td>AFM - Meldung E-Schrott</td>\n",
       "    </tr>\n",
       "    <tr>\n",
       "      <th>67</th>\n",
       "      <td>Behälter nicht wieder verschlossen</td>\n",
       "    </tr>\n",
       "    <tr>\n",
       "      <th>68</th>\n",
       "      <td>Fehlende RE/GS, Rechnungskopie</td>\n",
       "    </tr>\n",
       "    <tr>\n",
       "      <th>69</th>\n",
       "      <td>RE falsch: Leistung, Menge, Preis</td>\n",
       "    </tr>\n",
       "  </tbody>\n",
       "</table>\n",
       "</div>"
      ],
      "text/plain": [
       "                                                    0\n",
       "0                                   BB Rad beschädigt\n",
       "1                     VSS Schlüssel/Code erforderlich\n",
       "2                                   VST Tresorproblem\n",
       "3                           TV Transportweg versperrt\n",
       "4                      Behälter in Schüttung gefallen\n",
       "5                                      Behälter fehlt\n",
       "6                                RC Behälter vermüllt\n",
       "7                                                 NaN\n",
       "8                  NB nicht bereitgestellter Behälter\n",
       "9                                  Behälter zu schwer\n",
       "10                     TB Transportweg Baustelle kurz\n",
       "11                          SOV Sonstige Vorkommnisse\n",
       "12                        Z3 Schloss fehlt od. defekt\n",
       "13                               BB Deckel beschädigt\n",
       "14                          SZ /Urlaub/Schließzeit/VS\n",
       "15                        leerer Behälter - 0 Menge -\n",
       "16                               BB Zapfen beschädigt\n",
       "17                              Behälter-Rumpf defekt\n",
       "18                                         Fremdtonne\n",
       "19                             LV Ladestelle vermüllt\n",
       "20                          TB Transportweg Baustelle\n",
       "21                        Nicht geladen - Nachleerung\n",
       "22                            Ü Erhöhung erforderlich\n",
       "23                    Fahrzeugausfall/Fahrzeugwechsel\n",
       "24                               Tour nicht geschafft\n",
       "25                               Ü Ladestelle beräumt\n",
       "26                       Standort für Behälter unklar\n",
       "27         Storno - Leistung storniert, keine Leerung\n",
       "28                             Ü nur Behälter geladen\n",
       "29                Coronaschließung - keine Entsorgung\n",
       "30                     VS kein Schlüssel erforderlich\n",
       "31                Leerung ist erfolgt - Foto erstellt\n",
       "32                       Rattenbefall - keine Leerung\n",
       "33               Unfall - Fahrzeug - Eigenverschulden\n",
       "34                                  CT/AK - Leerfahrt\n",
       "35               Unfall - Fahrzeug - Fremdverschulden\n",
       "36                                   Fahrstuhl defekt\n",
       "37                                    Behälter zuviel\n",
       "38                          Nicht vollständig geladen\n",
       "39               Behälter falsch/nicht zurückgestellt\n",
       "40                           Bemerkungstexte anpassen\n",
       "41                            VB Verdreckter Behälter\n",
       "42                      Brenner - Behälter beschädigt\n",
       "43             Freilaufender Hund - GS nicht betreten\n",
       "44                       TT - Schlüssel für TT-Abfuhr\n",
       "45                                  Tourenplanung neu\n",
       "46                     Nicht nachgeladen - Gutschrift\n",
       "47                  AFM - Entsorger hat nicht geladen\n",
       "48                        Behälter - Reste angefroren\n",
       "49                            Keine RE/GS/MA erhalten\n",
       "50                              Behälter nur gestellt\n",
       "51           Einzugsermächtigung nicht berücksichtigt\n",
       "52                        AFM - Auftragsveränderungen\n",
       "53  Unfall - Haftpflichtschaden/keine Fahrzeugbete...\n",
       "54                      CT/AK Container/Mulde  defekt\n",
       "55                                       Größe falsch\n",
       "56                         Nicht Geladen - Gutschrift\n",
       "57                         RE/GS/MA für Kunden unklar\n",
       "58                                   Falsche RE/GS/MA\n",
       "59                      Nicht geladen - MMM mitnehmen\n",
       "60                               IGLU-Behälter defekt\n",
       "61                   CT/AK - Material/Falschbefüllung\n",
       "62                                UFC-Behälter defekt\n",
       "63                                          Glasabzug\n",
       "64                          AFM - Standplatzbetreuung\n",
       "65                            Fehlverhalten allgemein\n",
       "66                            AFM - Meldung E-Schrott\n",
       "67                 Behälter nicht wieder verschlossen\n",
       "68                     Fehlende RE/GS, Rechnungskopie\n",
       "69                  RE falsch: Leistung, Menge, Preis"
      ]
     },
     "metadata": {},
     "output_type": "display_data"
    }
   ],
   "source": [
    "display(pd.DataFrame(tours_reklmation.Grund.unique()))"
   ]
  },
  {
   "cell_type": "markdown",
   "metadata": {},
   "source": [
    "23\tFahrzeugausfall/Fahrzeugwechsel\n",
    "24\tTour nicht geschafft\n",
    "\n",
    "seem the most likely. lets see how many we have"
   ]
  },
  {
   "cell_type": "code",
   "execution_count": 43,
   "metadata": {},
   "outputs": [],
   "source": [
    "tour_nicht_geschafft = tours_reklmation[tours_reklmation.Grund == 'Tour nicht geschafft']"
   ]
  },
  {
   "cell_type": "code",
   "execution_count": 44,
   "metadata": {},
   "outputs": [
    {
     "data": {
      "text/html": [
       "<div>\n",
       "<style scoped>\n",
       "    .dataframe tbody tr th:only-of-type {\n",
       "        vertical-align: middle;\n",
       "    }\n",
       "\n",
       "    .dataframe tbody tr th {\n",
       "        vertical-align: top;\n",
       "    }\n",
       "\n",
       "    .dataframe thead th {\n",
       "        text-align: right;\n",
       "    }\n",
       "</style>\n",
       "<table border=\"1\" class=\"dataframe\">\n",
       "  <thead>\n",
       "    <tr style=\"text-align: right;\">\n",
       "      <th></th>\n",
       "      <th>tour_number</th>\n",
       "      <th>service_date</th>\n",
       "      <th>operational_site</th>\n",
       "      <th>reference_tour_number</th>\n",
       "      <th>reference_tour_code</th>\n",
       "      <th>%TOURNR</th>\n",
       "      <th>Belegnr.</th>\n",
       "      <th>Reklamationsgrund</th>\n",
       "      <th>Grund</th>\n",
       "      <th>Reklamationsuntergrund Beschreibung</th>\n",
       "    </tr>\n",
       "  </thead>\n",
       "  <tbody>\n",
       "    <tr>\n",
       "      <th>506</th>\n",
       "      <td>47060</td>\n",
       "      <td>29.09.2021</td>\n",
       "      <td>MONU</td>\n",
       "      <td>1</td>\n",
       "      <td>TP00335</td>\n",
       "      <td>47060.0</td>\n",
       "      <td>A213386316</td>\n",
       "      <td>901.0</td>\n",
       "      <td>Tour nicht geschafft</td>\n",
       "      <td>NaN</td>\n",
       "    </tr>\n",
       "    <tr>\n",
       "      <th>507</th>\n",
       "      <td>47060</td>\n",
       "      <td>29.09.2021</td>\n",
       "      <td>MONU</td>\n",
       "      <td>1</td>\n",
       "      <td>TP00335</td>\n",
       "      <td>47060.0</td>\n",
       "      <td>A213401251</td>\n",
       "      <td>901.0</td>\n",
       "      <td>Tour nicht geschafft</td>\n",
       "      <td>NaN</td>\n",
       "    </tr>\n",
       "    <tr>\n",
       "      <th>509</th>\n",
       "      <td>47060</td>\n",
       "      <td>29.09.2021</td>\n",
       "      <td>MONU</td>\n",
       "      <td>1</td>\n",
       "      <td>TP00335</td>\n",
       "      <td>47060.0</td>\n",
       "      <td>A213364845</td>\n",
       "      <td>901.0</td>\n",
       "      <td>Tour nicht geschafft</td>\n",
       "      <td>NaN</td>\n",
       "    </tr>\n",
       "    <tr>\n",
       "      <th>510</th>\n",
       "      <td>47060</td>\n",
       "      <td>29.09.2021</td>\n",
       "      <td>MONU</td>\n",
       "      <td>1</td>\n",
       "      <td>TP00335</td>\n",
       "      <td>47060.0</td>\n",
       "      <td>A213375624</td>\n",
       "      <td>901.0</td>\n",
       "      <td>Tour nicht geschafft</td>\n",
       "      <td>NaN</td>\n",
       "    </tr>\n",
       "    <tr>\n",
       "      <th>511</th>\n",
       "      <td>47060</td>\n",
       "      <td>29.09.2021</td>\n",
       "      <td>MONU</td>\n",
       "      <td>1</td>\n",
       "      <td>TP00335</td>\n",
       "      <td>47060.0</td>\n",
       "      <td>A213387375</td>\n",
       "      <td>901.0</td>\n",
       "      <td>Tour nicht geschafft</td>\n",
       "      <td>NaN</td>\n",
       "    </tr>\n",
       "  </tbody>\n",
       "</table>\n",
       "</div>"
      ],
      "text/plain": [
       "     tour_number service_date operational_site  reference_tour_number  \\\n",
       "506        47060   29.09.2021             MONU                      1   \n",
       "507        47060   29.09.2021             MONU                      1   \n",
       "509        47060   29.09.2021             MONU                      1   \n",
       "510        47060   29.09.2021             MONU                      1   \n",
       "511        47060   29.09.2021             MONU                      1   \n",
       "\n",
       "    reference_tour_code  %TOURNR    Belegnr.  Reklamationsgrund  \\\n",
       "506             TP00335  47060.0  A213386316              901.0   \n",
       "507             TP00335  47060.0  A213401251              901.0   \n",
       "509             TP00335  47060.0  A213364845              901.0   \n",
       "510             TP00335  47060.0  A213375624              901.0   \n",
       "511             TP00335  47060.0  A213387375              901.0   \n",
       "\n",
       "                    Grund Reklamationsuntergrund Beschreibung  \n",
       "506  Tour nicht geschafft                                 NaN  \n",
       "507  Tour nicht geschafft                                 NaN  \n",
       "509  Tour nicht geschafft                                 NaN  \n",
       "510  Tour nicht geschafft                                 NaN  \n",
       "511  Tour nicht geschafft                                 NaN  "
      ]
     },
     "metadata": {},
     "output_type": "display_data"
    }
   ],
   "source": [
    "display(tour_nicht_geschafft.head())"
   ]
  }
 ],
 "metadata": {
  "kernelspec": {
   "display_name": "BR",
   "language": "python",
   "name": "python3"
  },
  "language_info": {
   "codemirror_mode": {
    "name": "ipython",
    "version": 3
   },
   "file_extension": ".py",
   "mimetype": "text/x-python",
   "name": "python",
   "nbconvert_exporter": "python",
   "pygments_lexer": "ipython3",
   "version": "3.11.9"
  }
 },
 "nbformat": 4,
 "nbformat_minor": 2
}
