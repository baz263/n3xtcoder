{
 "cells": [
  {
   "cell_type": "code",
   "execution_count": 1,
   "metadata": {},
   "outputs": [],
   "source": [
    "import pandas as pd"
   ]
  },
  {
   "cell_type": "code",
   "execution_count": 22,
   "metadata": {},
   "outputs": [],
   "source": [
    "import matplotlib.pyplot as plt\n"
   ]
  },
  {
   "cell_type": "code",
   "execution_count": 2,
   "metadata": {},
   "outputs": [],
   "source": [
    "import folium"
   ]
  },
  {
   "cell_type": "code",
   "execution_count": 3,
   "metadata": {},
   "outputs": [],
   "source": [
    "tours = pd.read_csv('data/24-04-24/Tour.csv')"
   ]
  },
  {
   "cell_type": "code",
   "execution_count": 4,
   "metadata": {},
   "outputs": [
    {
     "name": "stderr",
     "output_type": "stream",
     "text": [
      "/var/folders/ch/cdbcz7115ms5zvq6n9ds4wn00000gn/T/ipykernel_54820/720056129.py:1: DtypeWarning: Columns (4) have mixed types. Specify dtype option on import or set low_memory=False.\n",
      "  reklamationen = pd.read_csv('data/24-04-24/Reklamationen.csv')\n"
     ]
    }
   ],
   "source": [
    "reklamationen = pd.read_csv('data/24-04-24/Reklamationen.csv')"
   ]
  },
  {
   "cell_type": "code",
   "execution_count": 5,
   "metadata": {},
   "outputs": [
    {
     "data": {
      "text/html": [
       "<div>\n",
       "<style scoped>\n",
       "    .dataframe tbody tr th:only-of-type {\n",
       "        vertical-align: middle;\n",
       "    }\n",
       "\n",
       "    .dataframe tbody tr th {\n",
       "        vertical-align: top;\n",
       "    }\n",
       "\n",
       "    .dataframe thead th {\n",
       "        text-align: right;\n",
       "    }\n",
       "</style>\n",
       "<table border=\"1\" class=\"dataframe\">\n",
       "  <thead>\n",
       "    <tr style=\"text-align: right;\">\n",
       "      <th></th>\n",
       "      <th>%TOURNR</th>\n",
       "      <th>Einsatzdatum</th>\n",
       "      <th>Betriebsstätte</th>\n",
       "      <th>%Rahmentour</th>\n",
       "      <th>Rahmentourcode</th>\n",
       "    </tr>\n",
       "  </thead>\n",
       "  <tbody>\n",
       "    <tr>\n",
       "      <th>0</th>\n",
       "      <td>12964</td>\n",
       "      <td>10.11.2023</td>\n",
       "      <td>MONU</td>\n",
       "      <td>1</td>\n",
       "      <td>TP00335</td>\n",
       "    </tr>\n",
       "    <tr>\n",
       "      <th>1</th>\n",
       "      <td>38897</td>\n",
       "      <td>07.02.2022</td>\n",
       "      <td>MONU</td>\n",
       "      <td>1</td>\n",
       "      <td>TP00335</td>\n",
       "    </tr>\n",
       "    <tr>\n",
       "      <th>2</th>\n",
       "      <td>73190</td>\n",
       "      <td>21.10.2022</td>\n",
       "      <td>MONU</td>\n",
       "      <td>1</td>\n",
       "      <td>TP00335</td>\n",
       "    </tr>\n",
       "    <tr>\n",
       "      <th>3</th>\n",
       "      <td>54020</td>\n",
       "      <td>06.08.2021</td>\n",
       "      <td>MONU</td>\n",
       "      <td>1</td>\n",
       "      <td>TP00335</td>\n",
       "    </tr>\n",
       "    <tr>\n",
       "      <th>4</th>\n",
       "      <td>78256</td>\n",
       "      <td>27.01.2023</td>\n",
       "      <td>MONU</td>\n",
       "      <td>1</td>\n",
       "      <td>TP00335</td>\n",
       "    </tr>\n",
       "  </tbody>\n",
       "</table>\n",
       "</div>"
      ],
      "text/plain": [
       "   %TOURNR Einsatzdatum Betriebsstätte  %Rahmentour Rahmentourcode\n",
       "0    12964   10.11.2023           MONU            1        TP00335\n",
       "1    38897   07.02.2022           MONU            1        TP00335\n",
       "2    73190   21.10.2022           MONU            1        TP00335\n",
       "3    54020   06.08.2021           MONU            1        TP00335\n",
       "4    78256   27.01.2023           MONU            1        TP00335"
      ]
     },
     "execution_count": 5,
     "metadata": {},
     "output_type": "execute_result"
    }
   ],
   "source": [
    "tours.head()"
   ]
  },
  {
   "cell_type": "code",
   "execution_count": 6,
   "metadata": {},
   "outputs": [],
   "source": [
    "tours_reklmationen = pd.merge(tours, reklamationen[reklamationen.Reklamationsgrund == 901.0], on='%TOURNR', how='outer')"
   ]
  },
  {
   "cell_type": "code",
   "execution_count": 7,
   "metadata": {},
   "outputs": [
    {
     "name": "stderr",
     "output_type": "stream",
     "text": [
      "/var/folders/ch/cdbcz7115ms5zvq6n9ds4wn00000gn/T/ipykernel_54820/2583555478.py:1: DtypeWarning: Columns (4) have mixed types. Specify dtype option on import or set low_memory=False.\n",
      "  auftrag = pd.read_csv('data/24-04-24/Auftr„ge.csv')\n"
     ]
    }
   ],
   "source": [
    "auftrag = pd.read_csv('data/24-04-24/Auftr„ge.csv')"
   ]
  },
  {
   "cell_type": "code",
   "execution_count": 8,
   "metadata": {},
   "outputs": [
    {
     "data": {
      "text/html": [
       "<div>\n",
       "<style scoped>\n",
       "    .dataframe tbody tr th:only-of-type {\n",
       "        vertical-align: middle;\n",
       "    }\n",
       "\n",
       "    .dataframe tbody tr th {\n",
       "        vertical-align: top;\n",
       "    }\n",
       "\n",
       "    .dataframe thead th {\n",
       "        text-align: right;\n",
       "    }\n",
       "</style>\n",
       "<table border=\"1\" class=\"dataframe\">\n",
       "  <thead>\n",
       "    <tr style=\"text-align: right;\">\n",
       "      <th></th>\n",
       "      <th>%TOURNR</th>\n",
       "      <th>%DEBITOR%EINSATZSTELLE</th>\n",
       "      <th>Auftr.Auftragsnr.</th>\n",
       "      <th>Auftr.Einsatzdatum</th>\n",
       "      <th>Auftr.Menge</th>\n",
       "      <th>Auftr.Einheit</th>\n",
       "      <th>Auftr.Betriebsmittelnr.</th>\n",
       "      <th>Auftr.Int. Stoffkatalog</th>\n",
       "      <th>Artikel</th>\n",
       "      <th>Betriebsmittel</th>\n",
       "    </tr>\n",
       "  </thead>\n",
       "  <tbody>\n",
       "    <tr>\n",
       "      <th>0</th>\n",
       "      <td>32437</td>\n",
       "      <td>56418</td>\n",
       "      <td>A221790082</td>\n",
       "      <td>19.05.2022</td>\n",
       "      <td>1</td>\n",
       "      <td>Stück</td>\n",
       "      <td>20440.0</td>\n",
       "      <td>M760300</td>\n",
       "      <td>Kunststoffe</td>\n",
       "      <td>30m³ CT offen</td>\n",
       "    </tr>\n",
       "    <tr>\n",
       "      <th>1</th>\n",
       "      <td>32437</td>\n",
       "      <td>56418</td>\n",
       "      <td>A221790083</td>\n",
       "      <td>19.05.2022</td>\n",
       "      <td>1</td>\n",
       "      <td>Stück</td>\n",
       "      <td>20440.0</td>\n",
       "      <td>M760300</td>\n",
       "      <td>Kunststoffe</td>\n",
       "      <td>30m³ CT offen</td>\n",
       "    </tr>\n",
       "    <tr>\n",
       "      <th>2</th>\n",
       "      <td>82408</td>\n",
       "      <td>56418</td>\n",
       "      <td>A231849217</td>\n",
       "      <td>23.05.2023</td>\n",
       "      <td>1</td>\n",
       "      <td>Stück</td>\n",
       "      <td>20440.0</td>\n",
       "      <td>M760300</td>\n",
       "      <td>Kunststoffe</td>\n",
       "      <td>30m³ CT offen</td>\n",
       "    </tr>\n",
       "    <tr>\n",
       "      <th>3</th>\n",
       "      <td>46532</td>\n",
       "      <td>56418</td>\n",
       "      <td>A213241021</td>\n",
       "      <td>21.09.2021</td>\n",
       "      <td>1</td>\n",
       "      <td>Stück</td>\n",
       "      <td>20440.0</td>\n",
       "      <td>M760300</td>\n",
       "      <td>Kunststoffe</td>\n",
       "      <td>30m³ CT offen</td>\n",
       "    </tr>\n",
       "    <tr>\n",
       "      <th>4</th>\n",
       "      <td>25173</td>\n",
       "      <td>56418</td>\n",
       "      <td>A220934859</td>\n",
       "      <td>15.03.2022</td>\n",
       "      <td>1</td>\n",
       "      <td>Stück</td>\n",
       "      <td>20440.0</td>\n",
       "      <td>M760300</td>\n",
       "      <td>Kunststoffe</td>\n",
       "      <td>30m³ CT offen</td>\n",
       "    </tr>\n",
       "  </tbody>\n",
       "</table>\n",
       "</div>"
      ],
      "text/plain": [
       "   %TOURNR  %DEBITOR%EINSATZSTELLE Auftr.Auftragsnr. Auftr.Einsatzdatum  \\\n",
       "0    32437                   56418        A221790082         19.05.2022   \n",
       "1    32437                   56418        A221790083         19.05.2022   \n",
       "2    82408                   56418        A231849217         23.05.2023   \n",
       "3    46532                   56418        A213241021         21.09.2021   \n",
       "4    25173                   56418        A220934859         15.03.2022   \n",
       "\n",
       "  Auftr.Menge Auftr.Einheit  Auftr.Betriebsmittelnr. Auftr.Int. Stoffkatalog  \\\n",
       "0           1         Stück                  20440.0                 M760300   \n",
       "1           1         Stück                  20440.0                 M760300   \n",
       "2           1         Stück                  20440.0                 M760300   \n",
       "3           1         Stück                  20440.0                 M760300   \n",
       "4           1         Stück                  20440.0                 M760300   \n",
       "\n",
       "       Artikel Betriebsmittel  \n",
       "0  Kunststoffe  30m³ CT offen  \n",
       "1  Kunststoffe  30m³ CT offen  \n",
       "2  Kunststoffe  30m³ CT offen  \n",
       "3  Kunststoffe  30m³ CT offen  \n",
       "4  Kunststoffe  30m³ CT offen  "
      ]
     },
     "execution_count": 8,
     "metadata": {},
     "output_type": "execute_result"
    }
   ],
   "source": [
    "auftrag.head()"
   ]
  },
  {
   "cell_type": "code",
   "execution_count": 9,
   "metadata": {},
   "outputs": [],
   "source": [
    "tours_reklmation_auftrag = pd.merge(tours_reklmationen[tours_reklmationen.Reklamationsgrund == 901.0], auftrag, on='%TOURNR', how='inner')"
   ]
  },
  {
   "cell_type": "code",
   "execution_count": 10,
   "metadata": {},
   "outputs": [],
   "source": [
    "einsatzstelle = pd.read_csv('data/24-04-24/Einsatzstelle.csv')"
   ]
  },
  {
   "cell_type": "code",
   "execution_count": 11,
   "metadata": {},
   "outputs": [
    {
     "data": {
      "text/html": [
       "<div>\n",
       "<style scoped>\n",
       "    .dataframe tbody tr th:only-of-type {\n",
       "        vertical-align: middle;\n",
       "    }\n",
       "\n",
       "    .dataframe tbody tr th {\n",
       "        vertical-align: top;\n",
       "    }\n",
       "\n",
       "    .dataframe thead th {\n",
       "        text-align: right;\n",
       "    }\n",
       "</style>\n",
       "<table border=\"1\" class=\"dataframe\">\n",
       "  <thead>\n",
       "    <tr style=\"text-align: right;\">\n",
       "      <th></th>\n",
       "      <th>%DEBITOR%EINSATZSTELLE</th>\n",
       "      <th>Adresse</th>\n",
       "      <th>Ort</th>\n",
       "      <th>PLZ</th>\n",
       "      <th>%EINSATZSTELLENR</th>\n",
       "      <th>Location</th>\n",
       "    </tr>\n",
       "  </thead>\n",
       "  <tbody>\n",
       "    <tr>\n",
       "      <th>0</th>\n",
       "      <td>33610</td>\n",
       "      <td>Ringstr. 8A</td>\n",
       "      <td>Berlin</td>\n",
       "      <td>12203</td>\n",
       "      <td>1</td>\n",
       "      <td>[13.3086847,52.4368641]</td>\n",
       "    </tr>\n",
       "    <tr>\n",
       "      <th>1</th>\n",
       "      <td>121533</td>\n",
       "      <td>Stahnsdorfer Damm 12</td>\n",
       "      <td>Berlin</td>\n",
       "      <td>14109</td>\n",
       "      <td>2</td>\n",
       "      <td>[13.1747222,52.4154794]</td>\n",
       "    </tr>\n",
       "    <tr>\n",
       "      <th>2</th>\n",
       "      <td>135160</td>\n",
       "      <td>Anhaltinerstr. 7</td>\n",
       "      <td>Berlin</td>\n",
       "      <td>14163</td>\n",
       "      <td>3</td>\n",
       "      <td>[13.2567496,52.4308445]</td>\n",
       "    </tr>\n",
       "    <tr>\n",
       "      <th>3</th>\n",
       "      <td>137834</td>\n",
       "      <td>Ilsensteinweg 4A</td>\n",
       "      <td>Berlin</td>\n",
       "      <td>14129</td>\n",
       "      <td>4</td>\n",
       "      <td>[13.22047,52.4367907]</td>\n",
       "    </tr>\n",
       "    <tr>\n",
       "      <th>4</th>\n",
       "      <td>118088</td>\n",
       "      <td>Claszeile 75</td>\n",
       "      <td>Berlin</td>\n",
       "      <td>14165</td>\n",
       "      <td>5</td>\n",
       "      <td>[13.2596225,52.4173589]</td>\n",
       "    </tr>\n",
       "  </tbody>\n",
       "</table>\n",
       "</div>"
      ],
      "text/plain": [
       "   %DEBITOR%EINSATZSTELLE               Adresse     Ort    PLZ  \\\n",
       "0                   33610           Ringstr. 8A  Berlin  12203   \n",
       "1                  121533  Stahnsdorfer Damm 12  Berlin  14109   \n",
       "2                  135160      Anhaltinerstr. 7  Berlin  14163   \n",
       "3                  137834      Ilsensteinweg 4A  Berlin  14129   \n",
       "4                  118088          Claszeile 75  Berlin  14165   \n",
       "\n",
       "   %EINSATZSTELLENR                 Location  \n",
       "0                 1  [13.3086847,52.4368641]  \n",
       "1                 2  [13.1747222,52.4154794]  \n",
       "2                 3  [13.2567496,52.4308445]  \n",
       "3                 4    [13.22047,52.4367907]  \n",
       "4                 5  [13.2596225,52.4173589]  "
      ]
     },
     "execution_count": 11,
     "metadata": {},
     "output_type": "execute_result"
    }
   ],
   "source": [
    "einsatzstelle.head()"
   ]
  },
  {
   "cell_type": "code",
   "execution_count": 12,
   "metadata": {},
   "outputs": [],
   "source": [
    "tours_reklmation_auftrag_einsatzstelle = pd.merge(tours_reklmation_auftrag, einsatzstelle, on='%DEBITOR%EINSATZSTELLE', how='inner')"
   ]
  },
  {
   "cell_type": "code",
   "execution_count": null,
   "metadata": {},
   "outputs": [],
   "source": []
  },
  {
   "cell_type": "code",
   "execution_count": 13,
   "metadata": {},
   "outputs": [],
   "source": [
    "tours_reklmation_auftrag_einsatzstelle.Location = tours_reklmation_auftrag_einsatzstelle.Location.str.split(',')"
   ]
  },
  {
   "cell_type": "code",
   "execution_count": 14,
   "metadata": {},
   "outputs": [],
   "source": [
    "tours_reklmation_auftrag_einsatzstelle['longitude'] = tours_reklmation_auftrag_einsatzstelle.Location.apply(lambda x: x[0][1:])"
   ]
  },
  {
   "cell_type": "code",
   "execution_count": 15,
   "metadata": {},
   "outputs": [],
   "source": [
    "tours_reklmation_auftrag_einsatzstelle['latitude'] = tours_reklmation_auftrag_einsatzstelle.Location.apply(lambda x: x[1][:-1])"
   ]
  },
  {
   "cell_type": "code",
   "execution_count": 16,
   "metadata": {},
   "outputs": [
    {
     "data": {
      "text/html": [
       "<div>\n",
       "<style scoped>\n",
       "    .dataframe tbody tr th:only-of-type {\n",
       "        vertical-align: middle;\n",
       "    }\n",
       "\n",
       "    .dataframe tbody tr th {\n",
       "        vertical-align: top;\n",
       "    }\n",
       "\n",
       "    .dataframe thead th {\n",
       "        text-align: right;\n",
       "    }\n",
       "</style>\n",
       "<table border=\"1\" class=\"dataframe\">\n",
       "  <thead>\n",
       "    <tr style=\"text-align: right;\">\n",
       "      <th></th>\n",
       "      <th>%TOURNR</th>\n",
       "      <th>Einsatzdatum</th>\n",
       "      <th>Betriebsstätte</th>\n",
       "      <th>%Rahmentour</th>\n",
       "      <th>Rahmentourcode</th>\n",
       "      <th>Belegnr.</th>\n",
       "      <th>Reklamationsgrund</th>\n",
       "      <th>Grund</th>\n",
       "      <th>Reklamationsuntergrund Beschreibung</th>\n",
       "      <th>%DEBITOR%EINSATZSTELLE</th>\n",
       "      <th>...</th>\n",
       "      <th>Auftr.Int. Stoffkatalog</th>\n",
       "      <th>Artikel</th>\n",
       "      <th>Betriebsmittel</th>\n",
       "      <th>Adresse</th>\n",
       "      <th>Ort</th>\n",
       "      <th>PLZ</th>\n",
       "      <th>%EINSATZSTELLENR</th>\n",
       "      <th>Location</th>\n",
       "      <th>longitude</th>\n",
       "      <th>latitude</th>\n",
       "    </tr>\n",
       "  </thead>\n",
       "  <tbody>\n",
       "    <tr>\n",
       "      <th>0</th>\n",
       "      <td>231</td>\n",
       "      <td>19.12.2022</td>\n",
       "      <td>MONU</td>\n",
       "      <td>88.0</td>\n",
       "      <td>TP00118</td>\n",
       "      <td>A224429705</td>\n",
       "      <td>901.0</td>\n",
       "      <td>Tour nicht geschafft</td>\n",
       "      <td>Tourüberlastung</td>\n",
       "      <td>3310</td>\n",
       "      <td>...</td>\n",
       "      <td>M610200</td>\n",
       "      <td>5.01 Altpapier, gemischt</td>\n",
       "      <td>1100 L MGB</td>\n",
       "      <td>Bergfelder Weg 8</td>\n",
       "      <td>Berlin</td>\n",
       "      <td>13465</td>\n",
       "      <td>84201</td>\n",
       "      <td>[[13.2945, 52.64293]]</td>\n",
       "      <td>13.2945</td>\n",
       "      <td>52.64293</td>\n",
       "    </tr>\n",
       "    <tr>\n",
       "      <th>1</th>\n",
       "      <td>231</td>\n",
       "      <td>19.12.2022</td>\n",
       "      <td>MONU</td>\n",
       "      <td>88.0</td>\n",
       "      <td>TP00118</td>\n",
       "      <td>A224429705</td>\n",
       "      <td>901.0</td>\n",
       "      <td>Tour nicht geschafft</td>\n",
       "      <td>Tourüberlastung</td>\n",
       "      <td>3300</td>\n",
       "      <td>...</td>\n",
       "      <td>M610200</td>\n",
       "      <td>5.01 Altpapier, gemischt</td>\n",
       "      <td>1100 L MGB</td>\n",
       "      <td>Bergfelder Weg 12</td>\n",
       "      <td>Berlin</td>\n",
       "      <td>13465</td>\n",
       "      <td>84257</td>\n",
       "      <td>[[13.29518, 52.64297]]</td>\n",
       "      <td>13.29518</td>\n",
       "      <td>52.64297</td>\n",
       "    </tr>\n",
       "    <tr>\n",
       "      <th>2</th>\n",
       "      <td>231</td>\n",
       "      <td>19.12.2022</td>\n",
       "      <td>MONU</td>\n",
       "      <td>88.0</td>\n",
       "      <td>TP00118</td>\n",
       "      <td>A224429705</td>\n",
       "      <td>901.0</td>\n",
       "      <td>Tour nicht geschafft</td>\n",
       "      <td>Tourüberlastung</td>\n",
       "      <td>3301</td>\n",
       "      <td>...</td>\n",
       "      <td>M610200</td>\n",
       "      <td>5.01 Altpapier, gemischt</td>\n",
       "      <td>1100 L MGB</td>\n",
       "      <td>Bergfelder Weg 4</td>\n",
       "      <td>Berlin</td>\n",
       "      <td>13465</td>\n",
       "      <td>84197</td>\n",
       "      <td>[[13.2932399, 52.6427086]]</td>\n",
       "      <td>13.2932399</td>\n",
       "      <td>52.6427086</td>\n",
       "    </tr>\n",
       "    <tr>\n",
       "      <th>3</th>\n",
       "      <td>231</td>\n",
       "      <td>19.12.2022</td>\n",
       "      <td>MONU</td>\n",
       "      <td>88.0</td>\n",
       "      <td>TP00118</td>\n",
       "      <td>A224429705</td>\n",
       "      <td>901.0</td>\n",
       "      <td>Tour nicht geschafft</td>\n",
       "      <td>Tourüberlastung</td>\n",
       "      <td>100531</td>\n",
       "      <td>...</td>\n",
       "      <td>M610200</td>\n",
       "      <td>5.01 Altpapier, gemischt</td>\n",
       "      <td>1100 L MGB</td>\n",
       "      <td>Gollanczstr. 18</td>\n",
       "      <td>Berlin</td>\n",
       "      <td>13465</td>\n",
       "      <td>88252</td>\n",
       "      <td>[[13.287746, 52.638056]]</td>\n",
       "      <td>13.287746</td>\n",
       "      <td>52.638056</td>\n",
       "    </tr>\n",
       "    <tr>\n",
       "      <th>4</th>\n",
       "      <td>231</td>\n",
       "      <td>19.12.2022</td>\n",
       "      <td>MONU</td>\n",
       "      <td>88.0</td>\n",
       "      <td>TP00118</td>\n",
       "      <td>A224429705</td>\n",
       "      <td>901.0</td>\n",
       "      <td>Tour nicht geschafft</td>\n",
       "      <td>Tourüberlastung</td>\n",
       "      <td>44248</td>\n",
       "      <td>...</td>\n",
       "      <td>M610200</td>\n",
       "      <td>5.01 Altpapier, gemischt</td>\n",
       "      <td>1100 L MGB</td>\n",
       "      <td>Wiltinger Str. 1</td>\n",
       "      <td>Berlin</td>\n",
       "      <td>13465</td>\n",
       "      <td>88773</td>\n",
       "      <td>[[13.2899236, 52.6345862]]</td>\n",
       "      <td>13.2899236</td>\n",
       "      <td>52.6345862</td>\n",
       "    </tr>\n",
       "  </tbody>\n",
       "</table>\n",
       "<p>5 rows × 25 columns</p>\n",
       "</div>"
      ],
      "text/plain": [
       "   %TOURNR Einsatzdatum Betriebsstätte  %Rahmentour Rahmentourcode  \\\n",
       "0      231   19.12.2022           MONU         88.0        TP00118   \n",
       "1      231   19.12.2022           MONU         88.0        TP00118   \n",
       "2      231   19.12.2022           MONU         88.0        TP00118   \n",
       "3      231   19.12.2022           MONU         88.0        TP00118   \n",
       "4      231   19.12.2022           MONU         88.0        TP00118   \n",
       "\n",
       "     Belegnr.  Reklamationsgrund                 Grund  \\\n",
       "0  A224429705              901.0  Tour nicht geschafft   \n",
       "1  A224429705              901.0  Tour nicht geschafft   \n",
       "2  A224429705              901.0  Tour nicht geschafft   \n",
       "3  A224429705              901.0  Tour nicht geschafft   \n",
       "4  A224429705              901.0  Tour nicht geschafft   \n",
       "\n",
       "  Reklamationsuntergrund Beschreibung  %DEBITOR%EINSATZSTELLE  ...  \\\n",
       "0                     Tourüberlastung                    3310  ...   \n",
       "1                     Tourüberlastung                    3300  ...   \n",
       "2                     Tourüberlastung                    3301  ...   \n",
       "3                     Tourüberlastung                  100531  ...   \n",
       "4                     Tourüberlastung                   44248  ...   \n",
       "\n",
       "  Auftr.Int. Stoffkatalog                   Artikel Betriebsmittel  \\\n",
       "0                 M610200  5.01 Altpapier, gemischt     1100 L MGB   \n",
       "1                 M610200  5.01 Altpapier, gemischt     1100 L MGB   \n",
       "2                 M610200  5.01 Altpapier, gemischt     1100 L MGB   \n",
       "3                 M610200  5.01 Altpapier, gemischt     1100 L MGB   \n",
       "4                 M610200  5.01 Altpapier, gemischt     1100 L MGB   \n",
       "\n",
       "             Adresse     Ort    PLZ %EINSATZSTELLENR  \\\n",
       "0   Bergfelder Weg 8  Berlin  13465            84201   \n",
       "1  Bergfelder Weg 12  Berlin  13465            84257   \n",
       "2   Bergfelder Weg 4  Berlin  13465            84197   \n",
       "3    Gollanczstr. 18  Berlin  13465            88252   \n",
       "4   Wiltinger Str. 1  Berlin  13465            88773   \n",
       "\n",
       "                     Location   longitude    latitude  \n",
       "0       [[13.2945, 52.64293]]     13.2945    52.64293  \n",
       "1      [[13.29518, 52.64297]]    13.29518    52.64297  \n",
       "2  [[13.2932399, 52.6427086]]  13.2932399  52.6427086  \n",
       "3    [[13.287746, 52.638056]]   13.287746   52.638056  \n",
       "4  [[13.2899236, 52.6345862]]  13.2899236  52.6345862  \n",
       "\n",
       "[5 rows x 25 columns]"
      ]
     },
     "execution_count": 16,
     "metadata": {},
     "output_type": "execute_result"
    }
   ],
   "source": [
    "tours_reklmation_auftrag_einsatzstelle.head()"
   ]
  },
  {
   "cell_type": "code",
   "execution_count": 26,
   "metadata": {},
   "outputs": [],
   "source": [
    "percentages = tours_reklmation_auftrag_einsatzstelle['Reklamationsuntergrund Beschreibung'].value_counts(dropna= False,  normalize=True) * 100"
   ]
  },
  {
   "cell_type": "code",
   "execution_count": 27,
   "metadata": {},
   "outputs": [
    {
     "data": {
      "text/plain": [
       "Reklamationsuntergrund Beschreibung\n",
       "Tourüberlastung                56.940749\n",
       "NaN                            35.128335\n",
       "Fahrzeugausfall                 2.090734\n",
       "Zeitarbeiterproblem             1.940374\n",
       "Krankheitsfall auf Tour         1.301761\n",
       "Fahrzeug voll                   1.126337\n",
       "Witterung                       0.707902\n",
       "Stau                            0.586741\n",
       "Straßensperren Unfall           0.138235\n",
       "Straßensperren Staatsbesuch     0.038833\n",
       "Name: proportion, dtype: float64"
      ]
     },
     "execution_count": 27,
     "metadata": {},
     "output_type": "execute_result"
    }
   ],
   "source": [
    "percentages"
   ]
  },
  {
   "cell_type": "code",
   "execution_count": 29,
   "metadata": {},
   "outputs": [
    {
     "data": {
      "image/png": "[encoded data removed]",
      "text/plain": [
       "<Figure size 640x480 with 1 Axes>"
      ]
     },
     "metadata": {},
     "output_type": "display_data"
    }
   ],
   "source": [
    "\n",
    "labels = tours_reklmation_auftrag_einsatzstelle['Reklamationsuntergrund Beschreibung'].value_counts(dropna= False).index\n",
    "sizes = tours_reklmation_auftrag_einsatzstelle['Reklamationsuntergrund Beschreibung'].value_counts(dropna= False).values\n",
    "\n",
    "plt.pie(sizes, labels=labels, autopct='%1.1f%%')\n",
    "plt.axis('equal')  # Equal aspect ratio ensures that pie is drawn as a circle.\n",
    "plt.show()"
   ]
  },
  {
   "cell_type": "code",
   "execution_count": 18,
   "metadata": {},
   "outputs": [],
   "source": [
    "# import folium\n",
    "\n",
    "# # Initialize a map centered around the mean of your coordinates\n",
    "# m = folium.Map(location=[tours_reklmation_auftrag_einsatzstelle['latitude'].mean(), tours_reklmation_auftrag_einsatzstelle['longitude'].mean()], zoom_start=13)\n",
    "\n",
    "# # Add a marker for every record in the filtered data, use a clustered view\n",
    "# for index, row in tours_reklmation_auftrag_einsatzstelle.iterrows():\n",
    "#     folium.Marker([row['latitude'], row['longitude']]).add_to(m)\n",
    "\n",
    "# # Display the map\n",
    "# m"
   ]
  }
 ],
 "metadata": {
  "kernelspec": {
   "display_name": "BR",
   "language": "python",
   "name": "python3"
  },
  "language_info": {
   "codemirror_mode": {
    "name": "ipython",
    "version": 3
   },
   "file_extension": ".py",
   "mimetype": "text/x-python",
   "name": "python",
   "nbconvert_exporter": "python",
   "pygments_lexer": "ipython3",
   "version": "3.11.9"
  }
 },
 "nbformat": 4,
 "nbformat_minor": 2
}
